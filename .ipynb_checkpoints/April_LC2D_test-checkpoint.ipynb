{
 "cells": [
  {
   "cell_type": "code",
   "execution_count": 1,
   "id": "ae8095f9",
   "metadata": {},
   "outputs": [],
   "source": [
    "import matplotlib.pyplot as plt\n",
    "%matplotlib inline\n",
    "import numpy as np\n",
    "import xarray as xr\n",
    "import h5py\n",
    "from tqdm import tqdm\n",
    "import time\n",
    "\n",
    "from RPLB_acc_NoSTC import RPLB_acc_NoSTC\n",
    "from RPLB_acc_NoSTC_2D import RPLB_acc_NoSTC_2D\n",
    "from RPLB_acc_NoSTCApril import RPLB_acc_NoSTCApril\n",
    "from RPLB_acc_NoSTCApril_2D import RPLB_acc_NoSTCApril_2D\n",
    "from RPLB_acc_LC_2D import RPLB_acc_LC_2D\n",
    "from RPLB_acc_LCApril_2D import RPLB_acc_LCApril_2D"
   ]
  },
  {
   "cell_type": "code",
   "execution_count": 2,
   "id": "b2daf8cc",
   "metadata": {},
   "outputs": [],
   "source": [
    "c = 2.9979e8\n",
    "lambda_0 = 1800e-9  # central wavelength\n",
    "omega_0 = 2*np.pi*c/lambda_0\n",
    "\n",
    "s = 57.5\n",
    "tau_FWHM = np.sqrt(2)*s*np.sqrt(2**(2/(s+1))-1)/omega_0\n",
    "tau_0 = s*np.sqrt(np.exp(2/(s+1))-1)/omega_0\n",
    "# print(tau_0)\n",
    "\n",
    "NA = 0.1\n",
    "half_angle = np.arcsin(NA)\n",
    "a = 2/(np.sin(half_angle)*np.tan(half_angle)*2*np.pi/lambda_0)  # set confocal parameter\n",
    "w_0 = 2/(np.tan(half_angle)*2*np.pi/lambda_0)  # set beam waist\n",
    "# print('{0:.3g}'.format(1e6*w_0))\n",
    "\n",
    "P = 100e12  # FL power\n",
    "t_0 = -10*tau_0\n",
    "\n",
    "t, z, beta, KE = RPLB_acc_NoSTC(lambda_0, tau_0, w_0, P, 0.0, 0.0, t_0, 0.0, 0.0)\n",
    "t_2D, z, r, v_z, v_r, KE_2D = RPLB_acc_NoSTC_2D(lambda_0, tau_0, w_0, P, 0.0, 0.0, t_0, 0.0, 0.0, 0.0)\n",
    "t_April, z, beta, KE_April = RPLB_acc_NoSTCApril(lambda_0, s, a, P, 0.0, t_0, 0.0, 0.0)\n",
    "t_April2D, z, r, v_z, v_r, KE_April2D = RPLB_acc_NoSTCApril_2D(lambda_0, s, a, P, 0.0, t_0, 0.0, 0.0, 0.0)\n",
    "t_LC2D, z, r, v_z, v_r, KE_LC2D = RPLB_acc_LC_2D(lambda_0, tau_0, w_0, P, 0.0, 0.0, 0.0, 0.0, 0.0, 0.0, 0.0)\n",
    "t_AprilLC2D, z, r, v_z, v_r, KE_AprilLC2D = RPLB_acc_LCApril_2D(lambda_0, s, a, P, 0.0, 0.0, 0.0, t_0, 0.0, 0.0, 0.0, 0.0)"
   ]
  },
  {
   "cell_type": "code",
   "execution_count": 3,
   "id": "56ac2e23",
   "metadata": {},
   "outputs": [
    {
     "name": "stdout",
     "output_type": "stream",
     "text": [
      "92228625.1216784\n",
      "92047591.69331394\n",
      "91748376.03924045\n",
      "92177857.19063503\n",
      "92023908.65213723\n",
      "91577762.92943096\n"
     ]
    },
    {
     "data": {
      "text/plain": [
       "[<matplotlib.lines.Line2D at 0x18c8da97460>]"
      ]
     },
     "execution_count": 3,
     "metadata": {},
     "output_type": "execute_result"
    },
    {
     "data": {
      "image/png": "[encoded data removed]",
      "text/plain": [
       "<Figure size 432x288 with 1 Axes>"
      ]
     },
     "metadata": {
      "needs_background": "light"
     },
     "output_type": "display_data"
    }
   ],
   "source": [
    "print(KE[-1])\n",
    "print(KE_2D[-1])\n",
    "print(KE_April[-1])\n",
    "print(KE_April2D[-1])\n",
    "print(KE_LC2D[-1])\n",
    "print(KE_AprilLC2D[-1])\n",
    "\n",
    "plt.plot(t, KE)\n",
    "plt.plot(t_2D, KE_2D)\n",
    "plt.plot(t_April, KE_April)\n",
    "plt.plot(t_April2D, KE_April2D)\n",
    "plt.plot(t_LC2D, KE_LC2D)\n",
    "plt.plot(t_AprilLC2D, KE_AprilLC2D)"
   ]
  },
  {
   "cell_type": "code",
   "execution_count": null,
   "id": "c326abbd",
   "metadata": {},
   "outputs": [],
   "source": []
  },
  {
   "cell_type": "code",
   "execution_count": null,
   "id": "7b560e54",
   "metadata": {},
   "outputs": [],
   "source": []
  }
 ],
 "metadata": {
  "kernelspec": {
   "display_name": "Python 3 (ipykernel)",
   "language": "python",
   "name": "python3"
  },
  "language_info": {
   "codemirror_mode": {
    "name": "ipython",
    "version": 3
   },
   "file_extension": ".py",
   "mimetype": "text/x-python",
   "name": "python",
   "nbconvert_exporter": "python",
   "pygments_lexer": "ipython3",
   "version": "3.9.12"
  }
 },
 "nbformat": 4,
 "nbformat_minor": 5
}
