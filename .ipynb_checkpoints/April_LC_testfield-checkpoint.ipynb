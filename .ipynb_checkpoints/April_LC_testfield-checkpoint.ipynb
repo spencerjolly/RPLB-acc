{
 "cells": [
  {
   "cell_type": "code",
   "execution_count": 1,
   "metadata": {},
   "outputs": [],
   "source": [
    "import matplotlib.pyplot as plt\n",
    "%matplotlib inline\n",
    "import numpy as np\n",
    "import xarray as xr\n",
    "import h5py\n",
    "from tqdm import tqdm\n",
    "import time\n",
    "\n",
    "from RPLB_acc_NoSTC import RPLB_acc_NoSTC\n",
    "from RPLB_acc_LC import RPLB_acc_LC\n",
    "from RPLB_acc_NoSTCApril import RPLB_acc_NoSTCApril\n",
    "from RPLB_acc_LCApril import RPLB_acc_LCApril"
   ]
  },
  {
   "cell_type": "code",
   "execution_count": 2,
   "metadata": {},
   "outputs": [
    {
     "name": "stdout",
     "output_type": "stream",
     "text": [
      "5.7\n"
     ]
    }
   ],
   "source": [
    "c = 2.9979e8\n",
    "lambda_0 = 1800e-9  # central wavelength\n",
    "omega_0 = 2*np.pi*c/lambda_0\n",
    "\n",
    "s = 57.5\n",
    "tau_FWHM = np.sqrt(2)*s*np.sqrt(2**(2/(s+1))-1)/omega_0\n",
    "tau_0 = s*np.sqrt(np.exp(2/(s+1))-1)/omega_0\n",
    "\n",
    "NA = 0.1\n",
    "half_angle = np.arcsin(NA)\n",
    "a = 2/(np.sin(half_angle)*np.tan(half_angle)*2*np.pi/lambda_0)  # set confocal parameter\n",
    "w_0 = 2/(np.tan(half_angle)*2*np.pi/lambda_0)  # set beam waist\n",
    "print('{0:.3g}'.format(1e6*w_0))\n",
    "\n",
    "P = 50e12  # FL power\n",
    "Psi_0 = 0.0*np.pi\n",
    "t_0 = -10*tau_0\n",
    "\n",
    "# calculate frequency properties\n",
    "omega_0 = 2*np.pi*c/lambda_0\n",
    "tau_0 = s*np.sqrt(np.exp(2/(s+1))-1)/omega_0\n",
    "delta_omega = 2/tau_0\n",
    "# amplitude factor\n",
    "Amp = -1*np.sqrt(8*P/(np.pi*e_0*c))*a*c/(2*omega_0)\n",
    "\n",
    "t_start = t_0 + z_0/c\n",
    "t_end = +1e5*tau_0\n",
    "# number of time steps per laser period\n",
    "n = (lambda_0/(0.8e-6))*50  # np.maximum(50, np.round(np.sqrt(P/(w_0**2))/(5e10)))  # empirically chosen resolution based on field strength\n",
    "num_t = np.int_(np.round(n*(t_end-t_start)/(lambda_0/c)))\n",
    "time = np.linspace(t_start, t_end, num_t)\n",
    "dt = time[1]-time[0]\n",
    "\n",
    "omega = np.linspace((omega_0-4*delta_omega), (omega_0+4*delta_omega), 300)\n",
    "omega_step = omega[1]-omega[0]\n",
    "\n",
    "pulse_temp = np.exp(-((omega-omega_0)/delta_omega)**2)\n",
    "pulse_prep = pulse_temp*np.exp(-1j*((phi_2/2)*(omega-omega_0)**2 + (phi_3/6)*(omega-omega_0)**3))\n",
    "z_omega = a*tau_p*(omega-omega_0)\n",
    "z = np.zeros(shape=(len(time)))\n",
    "\n",
    "t = z[k] - z_omega + 1j*a\n",
    "pulse_spec = pulse_prep*(2*2*1j*Amp*np.exp(-omega*a/c)/(Rt)**2)*(np.sin(omega*Rt/c)/Rt-omega*np.cos(omega*Rt/c)/c)\n",
    "pulse_time = np.sum(pulse_spec*np.exp(1j*omega*time[k]))*omega_step/(delta_omega*np.sqrt(np.pi))\n",
    "field_total = np.exp(1j*(Psi_0+np.pi/2))*pulse_time"
   ]
  },
  {
   "cell_type": "code",
   "execution_count": null,
   "metadata": {},
   "outputs": [],
   "source": []
  },
  {
   "cell_type": "code",
   "execution_count": null,
   "metadata": {},
   "outputs": [],
   "source": []
  }
 ],
 "metadata": {
  "kernelspec": {
   "display_name": "Python 3",
   "language": "python",
   "name": "python3"
  },
  "language_info": {
   "codemirror_mode": {
    "name": "ipython",
    "version": 3
   },
   "file_extension": ".py",
   "mimetype": "text/x-python",
   "name": "python",
   "nbconvert_exporter": "python",
   "pygments_lexer": "ipython3",
   "version": "3.7.4"
  }
 },
 "nbformat": 4,
 "nbformat_minor": 2
}
