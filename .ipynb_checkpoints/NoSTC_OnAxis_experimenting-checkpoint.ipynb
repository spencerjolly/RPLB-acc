{
 "cells": [
  {
   "cell_type": "code",
   "execution_count": 5,
   "metadata": {},
   "outputs": [],
   "source": [
    "import matplotlib.pyplot as plt\n",
    "%matplotlib inline\n",
    "import numpy as np\n",
    "import xarray as xr\n",
    "from tqdm import tqdm\n",
    "import time as tim"
   ]
  },
  {
   "cell_type": "code",
   "execution_count": 33,
   "metadata": {
    "scrolled": true
   },
   "outputs": [],
   "source": [
    "# initialize constants (SI units)\n",
    "c = 2.99792458e8  # speed of light\n",
    "m_e = 9.10938356e-31\n",
    "q_e = 1.60217662e-19\n",
    "e_0 = 8.85418782e-12\n",
    "# set pure spectral properties\n",
    "lambda_0 = 800e-9  # central wavelength\n",
    "tau_0 = 10e-15  # FL pulse duration 1/e2 intensity half-width (same def as beam waist)\n",
    "# calculate frequency properties\n",
    "omega_0 = 2*np.pi*c/lambda_0\n",
    "delta_omega = 2/tau_0\n",
    "# set initial beam waist\n",
    "w_0 = 4e-6\n",
    "# calculate Rayleigh range\n",
    "z_R = (np.pi*w_0**2)/(lambda_0)\n",
    "# beam power\n",
    "P = 500e12\n",
    "# chirp\n",
    "GDD_0 = 0  # Group Delay Dispersion fs^2\n",
    "GDD = GDD_0*(1e-15)**2\n",
    "# CEP\n",
    "Psi_0 = 2.5  # np.pi\n",
    "# intial electron velocity\n",
    "z_0 = -0.69*z_R\n",
    "beta_0 = 0.0"
   ]
  },
  {
   "cell_type": "code",
   "execution_count": 35,
   "metadata": {},
   "outputs": [
    {
     "name": "stdout",
     "output_type": "stream",
     "text": [
      "6.446547508239746 seconds\n",
      "166301242.83608758 eV\n"
     ]
    },
    {
     "data": {
      "text/plain": [
       "[<matplotlib.lines.Line2D at 0x1a1a89d1548>]"
      ]
     },
     "execution_count": 35,
     "metadata": {},
     "output_type": "execute_result"
    },
    {
     "data": {
      "image/png": "[encoded data removed]",
      "text/plain": [
       "<Figure size 432x288 with 1 Axes>"
      ]
     },
     "metadata": {
      "needs_background": "light"
     },
     "output_type": "display_data"
    }
   ],
   "source": [
    "# amplitude factor\n",
    "Amp = np.sqrt(8*P/(np.pi*e_0*c))\n",
    "# stretched pulse duration\n",
    "tau = np.sqrt(tau_0**2 + (2*GDD/tau_0)**2)\n",
    "\n",
    "t_start = -50*tau_0\n",
    "t_end = +1e5*tau_0\n",
    "n = np.round(np.sqrt(P*tau_0/(tau*w_0**2))/(5e10))  # empirically chosen resolution based on field strength\n",
    "num_t = np.int_(np.round(n*(t_end-t_start)/(lambda_0/c)))\n",
    "time = np.linspace(t_start, t_end, num_t)\n",
    "dt = time[1]-time[0]\n",
    "\n",
    "z = np.empty(shape=(len(time)))\n",
    "beta = np.empty(shape=(len(time)))\n",
    "deriv2 = np.empty(shape=(len(time)))\n",
    "KE = np.zeros(shape=(len(time)))\n",
    "\n",
    "beta[0] = beta_0\n",
    "z[0] = beta[0]*c*time[0]+z_0\n",
    "\n",
    "start_time = tim.time()\n",
    "#do 5th order Adams-Bashforth finite difference method\n",
    "for k in range(0, len(time)-1):\n",
    "\n",
    "    field_temp = np.cos(Psi_0+2*np.arctan(z[k]/z_R)+omega_0*time[k]-omega_0*z[k]/c)/(z_R*(1+(z[k]/z_R)**2))\n",
    "    env_temp = np.exp(-((time[k]-z[k]/c)/tau)**2)\n",
    "    temp_phase = np.exp(1j*(2*GDD/(tau_0**4+(2*GDD)**2))*(time[k]-z[k]/c)**2)\n",
    "    field_total = Amp*(tau_0/tau)*field_temp*env_temp*temp_phase\n",
    "    deriv2[k] = (-q_e*np.real(field_total)*((1-beta[k]**2)**(3/2))/(m_e*c))\n",
    "\n",
    "    if k==0:\n",
    "        z[k+1] = z[k] + dt*c*beta[k]\n",
    "        beta[k+1] = beta[k] + dt*deriv2[k]\n",
    "    elif k==1:\n",
    "        z[k+1] = z[k] + dt*c*(1.5*beta[k]-0.5*beta[k-1])\n",
    "        beta[k+1] = beta[k] + dt*(1.5*deriv2[k]-0.5*deriv2[k-1])\n",
    "    elif k==2:\n",
    "        z[k+1] = z[k] + dt*c*((23/12)*beta[k]-(4/3)*beta[k-1]+(5/12)*beta[k-2])\n",
    "        beta[k+1] = beta[k] + dt*((23/12)*deriv2[k]-(4/3)*deriv2[k-1]+(5/12)*deriv2[k-2])\n",
    "    elif k==3:\n",
    "        z[k+1] = z[k] + dt*c*((55/24)*beta[k]-(59/24)*beta[k-1]+(37/24)*beta[k-2]-(3/8)*beta[k-3])\n",
    "        beta[k+1] = beta[k] + dt*((55/24)*deriv2[k]-(59/24)*deriv2[k-1]+(37/24)*deriv2[k-2]-(3/8)*deriv2[k-3])\n",
    "    else:\n",
    "        z[k+1] = z[k] + dt*c*((1901/720)*beta[k]-(1387/360)*beta[k-1]+(109/30)*beta[k-2]-(637/360)*beta[k-3]+(251/720)*beta[k-4])\n",
    "        beta[k+1] = beta[k] + dt*((1901/720)*deriv2[k]-(1387/360)*deriv2[k-1]+(109/30)*deriv2[k-2]-(637/360)*deriv2[k-3]+(251/720)*deriv2[k-4])\n",
    "\n",
    "    KE[k+1] = ((1/np.sqrt(1-beta[k+1]**2))-1)*m_e*c**2/q_e\n",
    "    \n",
    "    if (time[k] > 100*tau_0 and np.abs(np.mean(np.diff(KE[k-100:k+1])/(KE[k+1]*dt))) < 1e6):\n",
    "        k_stop = k+1\n",
    "        break\n",
    "\n",
    "end_time = tim.time()\n",
    "print(str(end_time-start_time)+' seconds')\n",
    "print(str(KE[k_stop])+' eV')\n",
    "\n",
    "plt.plot(time[:k_stop], KE[:k_stop])"
   ]
  },
  {
   "cell_type": "code",
   "execution_count": null,
   "metadata": {},
   "outputs": [],
   "source": []
  },
  {
   "cell_type": "code",
   "execution_count": null,
   "metadata": {},
   "outputs": [],
   "source": []
  },
  {
   "cell_type": "code",
   "execution_count": null,
   "metadata": {},
   "outputs": [],
   "source": []
  }
 ],
 "metadata": {
  "kernelspec": {
   "display_name": "Python 3",
   "language": "python",
   "name": "python3"
  },
  "language_info": {
   "codemirror_mode": {
    "name": "ipython",
    "version": 3
   },
   "file_extension": ".py",
   "mimetype": "text/x-python",
   "name": "python",
   "nbconvert_exporter": "python",
   "pygments_lexer": "ipython3",
   "version": "3.7.4"
  }
 },
 "nbformat": 4,
 "nbformat_minor": 2
}
