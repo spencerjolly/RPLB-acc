{
 "cells": [
  {
   "cell_type": "code",
   "execution_count": 16,
   "metadata": {},
   "outputs": [],
   "source": [
    "import matplotlib.pyplot as plt\n",
    "%matplotlib inline\n",
    "import numpy as np\n",
    "import xarray as xr\n",
    "import h5py\n",
    "from tqdm import tqdm\n",
    "import time\n",
    "from RPLB_acc_NoSTC import RPLB_acc_NoSTC\n",
    "from RPLB_acc_LC import RPLB_acc_LC"
   ]
  },
  {
   "cell_type": "code",
   "execution_count": 17,
   "metadata": {},
   "outputs": [
    {
     "name": "stdout",
     "output_type": "stream",
     "text": [
      "0.03249669075012207\n",
      "5710659.504500193\n"
     ]
    }
   ],
   "source": [
    "lambda_0 = 800e-9  # central wavelength\n",
    "tau_0 = 10e-15  # FL pulse duration 1/e2 intensity half-width (same def as beam waist)\n",
    "w_0 = 4e-6  # set beam waist\n",
    "P = 100e12  # FL power\n",
    "Psi_0 = 0.6\n",
    "phi_2 = 0  # Group Delay Dispersion s^2\n",
    "z_0 = 0.005*(np.pi*w_0**2)/(lambda_0)  # collision position\n",
    "beta_0 = 0.0\n",
    "\n",
    "start = time.time()\n",
    "result = RPLB_acc_NoSTC(lambda_0, tau_0, w_0, P, Psi_0, phi_2, z_0, beta_0)\n",
    "end = time.time()\n",
    "\n",
    "print(end-start)\n",
    "print(result)"
   ]
  },
  {
   "cell_type": "code",
   "execution_count": 19,
   "metadata": {
    "scrolled": true
   },
   "outputs": [
    {
     "name": "stdout",
     "output_type": "stream",
     "text": [
      "2.0049047470092773\n",
      "nan\n"
     ]
    }
   ],
   "source": [
    "lambda_0 = 800e-9  # central wavelength\n",
    "tau_0 = 10e-15  # FL pulse duration 1/e2 intensity half-width (same def as beam waist)\n",
    "w_0 = 4e-6  # set beam waist\n",
    "P = 100e12  # FL power\n",
    "Psi_0 = 5.4\n",
    "phi_2 = 0*(1e-15)**2  # Group Delay Dispersion s^2\n",
    "z_0 = 0.042*(np.pi*w_0**2)/(lambda_0)  # collision position\n",
    "beta_0 = 0.0\n",
    "tau_p = -1.4*(1e-15)  # radial group delay s\n",
    "\n",
    "start = time.time()\n",
    "result = RPLB_acc_LC(lambda_0, tau_0, w_0, P, Psi_0, phi_2, 0, z_0, beta_0, tau_p)\n",
    "end = time.time()\n",
    "\n",
    "print(end-start)\n",
    "print(result)"
   ]
  },
  {
   "cell_type": "code",
   "execution_count": null,
   "metadata": {},
   "outputs": [],
   "source": []
  },
  {
   "cell_type": "code",
   "execution_count": null,
   "metadata": {},
   "outputs": [],
   "source": []
  }
 ],
 "metadata": {
  "kernelspec": {
   "display_name": "Python 3",
   "language": "python",
   "name": "python3"
  },
  "language_info": {
   "codemirror_mode": {
    "name": "ipython",
    "version": 3
   },
   "file_extension": ".py",
   "mimetype": "text/x-python",
   "name": "python",
   "nbconvert_exporter": "python",
   "pygments_lexer": "ipython3",
   "version": "3.7.4"
  }
 },
 "nbformat": 4,
 "nbformat_minor": 2
}
