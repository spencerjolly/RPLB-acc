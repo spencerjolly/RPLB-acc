{
 "cells": [
  {
   "cell_type": "code",
   "execution_count": 1,
   "metadata": {},
   "outputs": [],
   "source": [
    "import matplotlib.pyplot as plt\n",
    "%matplotlib inline\n",
    "import numpy as np\n",
    "import xarray as xr\n",
    "import h5py\n",
    "from tqdm import tqdm\n",
    "import time"
   ]
  },
  {
   "cell_type": "code",
   "execution_count": 2,
   "metadata": {},
   "outputs": [],
   "source": [
    "from RPLB_acc_NoSTC import RPLB_acc_NoSTC\n",
    "from RPLB_acc_NoSTC_2D import RPLB_acc_NoSTC_2D\n",
    "from RPLB_acc_LC import RPLB_acc_LC\n",
    "from RPLB_acc_LC_2D import RPLB_acc_LC_2D\n",
    "from RPLB_acc_g0 import RPLB_acc_g0\n",
    "from RPLB_acc_g0_2D import RPLB_acc_g0_2D\n",
    "from RPLB_acc_SC_2D import RPLB_acc_SC_2D\n",
    "from RPLB_acc_SC_3D import RPLB_acc_SC_3D\n",
    "from RPLB_acc_anySTC import RPLB_acc_anySTC\n",
    "from RPLB_acc_anySTC_2D import RPLB_acc_anySTC_2D\n",
    "from RPLB_acc_anySTC_3D import RPLB_acc_anySTC_3D\n",
    "\n",
    "from RPeLG_acc_NoSTC import RPeLG_acc_NoSTC\n",
    "from RPLG_acc_NoSTC import RPLG_acc_NoSTC"
   ]
  },
  {
   "cell_type": "code",
   "execution_count": 3,
   "metadata": {},
   "outputs": [
    {
     "name": "stdout",
     "output_type": "stream",
     "text": [
      "3.7327191829681396\n",
      "5712358.787966775\n"
     ]
    }
   ],
   "source": [
    "lambda_0 = 800e-9  # central wavelength\n",
    "tau_0 = 10e-15  # FL pulse duration 1/e2 intensity half-width (same def as beam waist)\n",
    "w_0 = 4e-6  # set beam waist\n",
    "P = 100e12  # FL power\n",
    "Psi_0 = 0.6\n",
    "phi_2 = 0*(1e-15)**2  # Group Delay Dispersion s^2\n",
    "t_0 = -10*tau_0\n",
    "z_0 = 0.005*(np.pi*w_0**2)/(lambda_0)  # collision position\n",
    "beta_0 = 0.0\n",
    "\n",
    "start = time.time()\n",
    "KE_final = RPLB_acc_NoSTC(lambda_0, tau_0, w_0, P, Psi_0, phi_2, t_0, z_0, beta_0)\n",
    "end = time.time()\n",
    "\n",
    "print(end-start)\n",
    "print(KE_final)"
   ]
  },
  {
   "cell_type": "code",
   "execution_count": 4,
   "metadata": {},
   "outputs": [
    {
     "name": "stdout",
     "output_type": "stream",
     "text": [
      "4.103980779647827\n",
      "7095371.474292281\n"
     ]
    },
    {
     "data": {
      "image/png": "[encoded data removed]",
      "text/plain": [
       "<Figure size 432x288 with 1 Axes>"
      ]
     },
     "metadata": {
      "needs_background": "light"
     },
     "output_type": "display_data"
    }
   ],
   "source": [
    "lambda_0 = 800e-9  # central wavelength\n",
    "tau_0 = 10e-15  # FL pulse duration 1/e2 intensity half-width (same def as beam waist)\n",
    "w_0 = 4e-6  # set beam waist\n",
    "P = 100e12  # FL power\n",
    "Psi_0 = 0.6\n",
    "phi_2 = 0*(1e-15)**2  # Group Delay Dispersion s^2\n",
    "z_0 = 0.005*(np.pi*w_0**2)/(lambda_0)  # collision position\n",
    "r_0 = 0.5*w_0\n",
    "beta_0 = 0.0\n",
    "\n",
    "start = time.time()\n",
    "t, z, r, v_z, v_r, KE_final = RPLB_acc_NoSTC_2D(lambda_0, tau_0, w_0, P, Psi_0, phi_2, z_0, r_0, beta_0)\n",
    "end = time.time()\n",
    "\n",
    "print(end-start)\n",
    "plt.plot(z, r)\n",
    "print(KE_final)"
   ]
  },
  {
   "cell_type": "code",
   "execution_count": 4,
   "metadata": {
    "scrolled": true
   },
   "outputs": [
    {
     "name": "stdout",
     "output_type": "stream",
     "text": [
      "6.465092182159424\n",
      "9824383.042097569\n"
     ]
    }
   ],
   "source": [
    "lambda_0 = 800e-9  # central wavelength\n",
    "tau_0 = 10e-15  # FL pulse duration 1/e2 intensity half-width (same def as beam waist)\n",
    "w_0 = 4e-6  # set beam waist\n",
    "P = 100e12  # FL power\n",
    "Psi_0 = 5.4\n",
    "phi_2 = 0*(1e-15)**2  # Group Delay Dispersion s^2\n",
    "phi_3 = 0*(1e-15)**3  # TOD s^3\n",
    "t_0 = -10*tau_0\n",
    "z_0 = 0.042*(np.pi*w_0**2)/(lambda_0)  # collision position\n",
    "beta_0 = 0.0\n",
    "tau_p = -1.4*(1e-15)  # radial group delay s\n",
    "\n",
    "start = time.time()\n",
    "KE_final = RPLB_acc_LC(lambda_0, tau_0, w_0, P, Psi_0, phi_2, phi_3, t_0, z_0, beta_0, tau_p)\n",
    "end = time.time()\n",
    "\n",
    "print(end-start)\n",
    "print(KE_final)"
   ]
  },
  {
   "cell_type": "code",
   "execution_count": 6,
   "metadata": {},
   "outputs": [
    {
     "name": "stdout",
     "output_type": "stream",
     "text": [
      "123.79629063606262\n",
      "2855294.2457353105\n"
     ]
    },
    {
     "data": {
      "image/png": "[encoded data removed]",
      "text/plain": [
       "<Figure size 432x288 with 1 Axes>"
      ]
     },
     "metadata": {
      "needs_background": "light"
     },
     "output_type": "display_data"
    }
   ],
   "source": [
    "lambda_0 = 800e-9  # central wavelength\n",
    "tau_0 = 10e-15  # FL pulse duration 1/e2 intensity half-width (same def as beam waist)\n",
    "w_0 = 4e-6  # set beam waist\n",
    "P = 100e12  # FL power\n",
    "Psi_0 = 5.4\n",
    "phi_2 = 0*(1e-15)**2  # Group Delay Dispersion s^2\n",
    "phi_3 = 0*(1e-15)**3  # TOD s^3\n",
    "z_0 = 0.042*(np.pi*w_0**2)/(lambda_0)  # collision position\n",
    "r_0 = 0.5*w_0\n",
    "beta_0 = 0.0\n",
    "tau_p = -1.4*(1e-15)  # radial group delay s\n",
    "\n",
    "start = time.time()\n",
    "t, z, r, v_z, v_r, KE_final = RPLB_acc_LC_2D(lambda_0, tau_0, w_0, P, Psi_0, phi_2, phi_3, z_0, r_0, beta_0, tau_p)\n",
    "end = time.time()\n",
    "\n",
    "print(end-start)\n",
    "plt.plot(z, r)\n",
    "print(KE_final)"
   ]
  },
  {
   "cell_type": "code",
   "execution_count": 5,
   "metadata": {},
   "outputs": [
    {
     "name": "stdout",
     "output_type": "stream",
     "text": [
      "6.227786540985107\n",
      "5712296.297687337\n"
     ]
    }
   ],
   "source": [
    "lambda_0 = 800e-9  # central wavelength\n",
    "tau_0 = 10e-15  # FL pulse duration 1/e2 intensity half-width (same def as beam waist)\n",
    "w_00 = 4e-6  # set beam waist\n",
    "P = 100e12  # FL power\n",
    "Psi_0 = 0.6\n",
    "phi_2 = 0*(1e-15)**2  # Group Delay Dispersion s^2\n",
    "phi_3 = 0*(1e-15)**3  # TOD s^3\n",
    "t_0 = -10*tau_0\n",
    "z_0 = 0.005*(np.pi*w_0**2)/(lambda_0)  # collision position\n",
    "beta_0 = 0.0\n",
    "g_0 = 0\n",
    "\n",
    "start = time.time()\n",
    "KE_final = RPLB_acc_g0(lambda_0, tau_0, w_00, P, Psi_0, phi_2, phi_3, t_0, z_0, beta_0, g_0)\n",
    "end = time.time()\n",
    "\n",
    "print(end-start)\n",
    "print(KE_final)"
   ]
  },
  {
   "cell_type": "code",
   "execution_count": 10,
   "metadata": {},
   "outputs": [
    {
     "name": "stdout",
     "output_type": "stream",
     "text": [
      "113.79010462760925\n",
      "5749074.936315945\n"
     ]
    },
    {
     "data": {
      "image/png": "[encoded data removed]",
      "text/plain": [
       "<Figure size 432x288 with 1 Axes>"
      ]
     },
     "metadata": {
      "needs_background": "light"
     },
     "output_type": "display_data"
    }
   ],
   "source": [
    "lambda_0 = 800e-9  # central wavelength\n",
    "tau_0 = 10e-15  # FL pulse duration 1/e2 intensity half-width (same def as beam waist)\n",
    "w_00 = 4e-6  # set beam waist\n",
    "P = 100e12  # FL power\n",
    "Psi_0 = 0.6\n",
    "phi_2 = 0*(1e-15)**2  # Group Delay Dispersion s^2\n",
    "phi_3 = 0*(1e-15)**3  # TOD s^3\n",
    "z_0 = 0.005*(np.pi*w_00**2)/(lambda_0)  # collision position\n",
    "r_0 = 0.0*w_00\n",
    "beta_0 = 0.0\n",
    "g_0 = 0\n",
    "\n",
    "start = time.time()\n",
    "t, z, r, v_z, v_r, KE_final = RPLB_acc_g0_2D(lambda_0, tau_0, w_00, P, Psi_0, phi_2, phi_3, z_0, r_0, beta_0, g_0)\n",
    "end = time.time()\n",
    "\n",
    "print(end-start)\n",
    "plt.plot(z, r)\n",
    "print(KE_final)"
   ]
  },
  {
   "cell_type": "code",
   "execution_count": 4,
   "metadata": {},
   "outputs": [
    {
     "name": "stdout",
     "output_type": "stream",
     "text": [
      "183.84545946121216\n",
      "5750849.730650849\n"
     ]
    },
    {
     "data": {
      "image/png": "[encoded data removed]",
      "text/plain": [
       "<Figure size 432x288 with 1 Axes>"
      ]
     },
     "metadata": {
      "needs_background": "light"
     },
     "output_type": "display_data"
    }
   ],
   "source": [
    "lambda_0 = 800e-9  # central wavelength\n",
    "tau_0 = 10e-15  # FL pulse duration 1/e2 intensity half-width (same def as beam waist)\n",
    "w_0 = 4e-6  # set beam waist\n",
    "P = 100e12  # FL power\n",
    "Psi_0 = 0.6\n",
    "phi_2 = 0*(1e-15)**2  # Group Delay Dispersion s^2\n",
    "phi_3 = 0*(1e-15)**3  # TOD s^3\n",
    "\n",
    "z_0 = 0.005*(np.pi*w_0**2)/(lambda_0)  # collision position\n",
    "x_0 = 0.0*w_0\n",
    "beta_0 = 0.0\n",
    "\n",
    "tau_t = 0.0*(1e-15)\n",
    "\n",
    "start = time.time()\n",
    "t, z, x, v_z, v_x, KE_final = RPLB_acc_SC_2D(lambda_0, tau_0, w_0, P, Psi_0, phi_2, phi_3, z_0, x_0, beta_0, tau_t)\n",
    "end = time.time()\n",
    "\n",
    "print(end-start)\n",
    "plt.plot(z, x)\n",
    "print(KE_final)"
   ]
  },
  {
   "cell_type": "code",
   "execution_count": 8,
   "metadata": {},
   "outputs": [
    {
     "name": "stdout",
     "output_type": "stream",
     "text": [
      "64.58647179603577\n",
      "5750849.730876915\n"
     ]
    },
    {
     "data": {
      "image/png": "[encoded data removed]",
      "text/plain": [
       "<Figure size 432x288 with 1 Axes>"
      ]
     },
     "metadata": {
      "needs_background": "light"
     },
     "output_type": "display_data"
    }
   ],
   "source": [
    "lambda_0 = 800e-9  # central wavelength\n",
    "tau_0 = 10e-15  # FL pulse duration 1/e2 intensity half-width (same def as beam waist)\n",
    "w_0 = 4e-6  # set beam waist\n",
    "P = 100e12  # FL power\n",
    "Psi_0 = 0.6\n",
    "phi_2 = 0*(1e-15)**2  # Group Delay Dispersion s^2\n",
    "phi_3 = 0*(1e-15)**3  # TOD s^3\n",
    "\n",
    "z_0 = 0.005*(np.pi*w_0**2)/(lambda_0)  # collision position\n",
    "x_0 = 0.0*w_0\n",
    "y_0 = 0.0*w_0\n",
    "beta_0 = 0.0\n",
    "\n",
    "tau_t = 0.0*(1e-15)\n",
    "\n",
    "start = time.time()\n",
    "t, z, x, y, v_z, v_x, v_y, KE_final = RPLB_acc_SC_3D(lambda_0, tau_0, w_0, P, Psi_0, phi_2, phi_3, z_0, x_0, y_0, beta_0, tau_t)\n",
    "end = time.time()\n",
    "\n",
    "print(end-start)\n",
    "plt.plot(z, x)\n",
    "print(KE_final)"
   ]
  },
  {
   "cell_type": "code",
   "execution_count": 6,
   "metadata": {},
   "outputs": [
    {
     "name": "stdout",
     "output_type": "stream",
     "text": [
      "7.35898232460022\n",
      "9821223.85020936\n"
     ]
    }
   ],
   "source": [
    "lambda_0 = 800e-9  # central wavelength\n",
    "tau_0 = 10e-15  # FL pulse duration 1/e2 intensity half-width (same def as beam waist)\n",
    "w_00 = 4e-6  # set beam waist\n",
    "P = 100e12  # FL power\n",
    "Psi_0 = 5.4\n",
    "phi_2 = 0.0*(1e-15)**2  # Group Delay Dispersion s^2\n",
    "phi_3 = 0.0*(1e-15)**3  # TOD s^3\n",
    "phi_4 = 0.0*(1e-15)**4  # TOD s^4\n",
    "spec_phase_coeffs = np.array([phi_2, phi_3, phi_4])\n",
    "\n",
    "tau_p = -1.4*(1e-15)  # radial group delay s\n",
    "c_2 = 0.0*(1e-15)**2  # second order LC\n",
    "LC_coeffs = np.array([tau_p, c_2])\n",
    "\n",
    "g_0_coeffs = np.array([0.0, 0.0])\n",
    "\n",
    "t_0 = -10*tau_0\n",
    "z_0 = 0.042*(np.pi*w_00**2)/(lambda_0)  # collision position\n",
    "beta_0 = 0.0\n",
    "\n",
    "start = time.time()\n",
    "KE_final = RPLB_acc_anySTC(lambda_0, tau_0, w_00, P, Psi_0, spec_phase_coeffs, LC_coeffs, g_0_coeffs, t_0, z_0, beta_0)\n",
    "end = time.time()\n",
    "\n",
    "print(end-start)\n",
    "print(KE_final)"
   ]
  },
  {
   "cell_type": "code",
   "execution_count": 5,
   "metadata": {},
   "outputs": [
    {
     "name": "stdout",
     "output_type": "stream",
     "text": [
      "76.68674373626709\n",
      "9893704.883014807\n"
     ]
    },
    {
     "data": {
      "image/png": "[encoded data removed]",
      "text/plain": [
       "<Figure size 432x288 with 1 Axes>"
      ]
     },
     "metadata": {
      "needs_background": "light"
     },
     "output_type": "display_data"
    }
   ],
   "source": [
    "lambda_0 = 800e-9  # central wavelength\n",
    "tau_0 = 10e-15  # FL pulse duration 1/e2 intensity half-width (same def as beam waist)\n",
    "w_00 = 4e-6  # set beam waist\n",
    "P = 100e12  # FL power\n",
    "Psi_0 = 5.4\n",
    "phi_2 = 0.0*(1e-15)**2  # Group Delay Dispersion s^2\n",
    "phi_3 = 0.0*(1e-15)**3  # TOD s^3\n",
    "phi_4 = 0.0*(1e-15)**4  # TOD s^4\n",
    "spec_phase_coeffs = np.array([phi_2, phi_3, phi_4])\n",
    "\n",
    "tau_p = -1.4*(1e-15)  # radial group delay s\n",
    "c_2 = 0.0*(1e-15)**2  # second order LC term s^2\n",
    "LC_coeffs = np.array([tau_p, c_2])\n",
    "\n",
    "tau_t = 0.0*(1e-15)  # transverse group delay s\n",
    "d_2 = 0.0*(1e-15)**2  # second order SC term s^2\n",
    "SC_coeffs = np.array([tau_t, d_2])\n",
    "\n",
    "g_0 = 0.0\n",
    "\n",
    "z_0 = 0.042*(np.pi*w_00**2)/(lambda_0)  # collision position\n",
    "x_0 = 0.0*w_00\n",
    "beta_0 = 0.0\n",
    "\n",
    "start = time.time()\n",
    "t, z, x, v_z, v_x, KE_final = RPLB_acc_anySTC_2D(lambda_0, tau_0, w_00, P, Psi_0, spec_phase_coeffs, LC_coeffs, SC_coeffs, g_0, z_0, x_0, beta_0)\n",
    "end = time.time()\n",
    "\n",
    "print(end-start)\n",
    "plt.plot(z, x)\n",
    "print(KE_final)"
   ]
  },
  {
   "cell_type": "code",
   "execution_count": 7,
   "metadata": {},
   "outputs": [
    {
     "name": "stdout",
     "output_type": "stream",
     "text": [
      "97.65087080001831\n",
      "9893704.883014807\n"
     ]
    },
    {
     "data": {
      "image/png": "[encoded data removed]",
      "text/plain": [
       "<Figure size 432x288 with 1 Axes>"
      ]
     },
     "metadata": {
      "needs_background": "light"
     },
     "output_type": "display_data"
    }
   ],
   "source": [
    "lambda_0 = 800e-9  # central wavelength\n",
    "tau_0 = 10e-15  # FL pulse duration 1/e2 intensity half-width (same def as beam waist)\n",
    "w_00 = 4e-6  # set beam waist\n",
    "P = 100e12  # FL power\n",
    "Psi_0 = 5.4\n",
    "phi_2 = 0.0*(1e-15)**2  # Group Delay Dispersion s^2\n",
    "phi_3 = 0.0*(1e-15)**3  # TOD s^3\n",
    "phi_4 = 0.0*(1e-15)**4  # TOD s^4\n",
    "spec_phase_coeffs = np.array([phi_2, phi_3, phi_4])\n",
    "\n",
    "tau_p = -1.4*(1e-15)  # radial group delay s\n",
    "c_2 = 0.0*(1e-15)**2  # second order LC term s^2\n",
    "LC_coeffs = np.array([tau_p, c_2])\n",
    "\n",
    "tau_t = 0.0*(1e-15)  # transverse group delay s\n",
    "d_2 = 0.0*(1e-15)**2  # second order SC term s^2\n",
    "SC_coeffs = np.array([tau_t, d_2])\n",
    "\n",
    "g_0 = 0.0\n",
    "\n",
    "z_0 = 0.042*(np.pi*w_00**2)/(lambda_0)  # collision position\n",
    "x_0 = 0.0*w_00\n",
    "y_0 = 0.0*w_00\n",
    "beta_0 = 0.0\n",
    "\n",
    "start = time.time()\n",
    "t, z, x, y, v_z, v_x, v_y, KE_final = RPLB_acc_anySTC_3D(lambda_0, tau_0, w_00, P, Psi_0, spec_phase_coeffs, LC_coeffs, SC_coeffs, g_0, z_0, x_0, y_0, beta_0)\n",
    "end = time.time()\n",
    "\n",
    "print(end-start)\n",
    "plt.plot(z, x)\n",
    "print(KE_final)"
   ]
  },
  {
   "cell_type": "code",
   "execution_count": 14,
   "metadata": {},
   "outputs": [
    {
     "data": {
      "text/plain": [
       "[<matplotlib.lines.Line2D at 0x1b8161e3fc8>]"
      ]
     },
     "execution_count": 14,
     "metadata": {},
     "output_type": "execute_result"
    },
    {
     "data": {
      "image/png": "[encoded data removed]",
      "text/plain": [
       "<Figure size 432x288 with 1 Axes>"
      ]
     },
     "metadata": {
      "needs_background": "light"
     },
     "output_type": "display_data"
    }
   ],
   "source": [
    "c = 3e8\n",
    "lambda_0 = 800e-9  # central wavelength\n",
    "tau_0 = 10e-15  # FL pulse duration 1/e2 intensity half-width (same def as beam waist)\n",
    "w_00 = 4e-6  # set beam waist\n",
    "# calculate frequency properties\n",
    "omega_0 = 2*np.pi*c/lambda_0\n",
    "delta_omega = 2/tau_0\n",
    "# calculate Rayleigh range\n",
    "z_R0 = (omega_0*w_00**2)/(2*c)\n",
    "\n",
    "omega = np.linspace((omega_0-4*delta_omega), (omega_0+4*delta_omega), 300)\n",
    "g_0_coeffs = 0\n",
    "#g_0_coeffs = np.array([0.0, -2.0])\n",
    "if (type(g_0_coeffs) == float or type(g_0_coeffs) == int):\n",
    "    z_R = z_R0*(omega_0/omega)**(g_0_coeffs)\n",
    "else:\n",
    "    z_R = z_R0 + np.zeros(shape=len(omega))\n",
    "    temp = 1\n",
    "    for j in range(0, len(g_0_coeffs)):\n",
    "        temp = temp*(j+1)\n",
    "        z_R = z_R+z_R0*(g_0_coeffs[j]/temp)*((omega-omega_0)/omega_0)**(j+1)\n",
    "        \n",
    "plt.plot(omega, z_R)"
   ]
  },
  {
   "cell_type": "code",
   "execution_count": 4,
   "metadata": {},
   "outputs": [
    {
     "name": "stdout",
     "output_type": "stream",
     "text": [
      "2.458177089691162\n",
      "5712358.787966775\n"
     ]
    }
   ],
   "source": [
    "n = 0  # order of the elegant Laguerre-Gaussian\n",
    "lambda_0 = 800e-9  # central wavelength\n",
    "tau_0 = 10e-15  # FL pulse duration 1/e2 intensity half-width (same def as beam waist)\n",
    "w_0 = 4e-6  # set beam waist\n",
    "P = 100e12  # FL power\n",
    "Psi_0 = 0.6\n",
    "phi_2 = 0*(1e-15)**2  # Group Delay Dispersion s^2\n",
    "t_0 = -10*tau_0\n",
    "z_0 = 0.005*(np.pi*w_0**2)/(lambda_0)  # collision position\n",
    "beta_0 = 0.0\n",
    "\n",
    "start = time.time()\n",
    "KE_final = RPeLG_acc_NoSTC(n, lambda_0, tau_0, w_0, P, Psi_0, phi_2, t_0, z_0, beta_0)\n",
    "end = time.time()\n",
    "\n",
    "print(end-start)\n",
    "print(KE_final)"
   ]
  },
  {
   "cell_type": "code",
   "execution_count": 5,
   "metadata": {},
   "outputs": [
    {
     "name": "stdout",
     "output_type": "stream",
     "text": [
      "2.438788652420044\n",
      "5712358.788111992\n"
     ]
    }
   ],
   "source": [
    "n = 0  # order of the elegant Laguerre-Gaussian\n",
    "lambda_0 = 800e-9  # central wavelength\n",
    "tau_0 = 10e-15  # FL pulse duration 1/e2 intensity half-width (same def as beam waist)\n",
    "w_0 = 4e-6  # set beam waist\n",
    "P = 100e12  # FL power\n",
    "Psi_0 = 0.6\n",
    "phi_2 = 0*(1e-15)**2  # Group Delay Dispersion s^2\n",
    "t_0 = -10*tau_0\n",
    "z_0 = 0.005*(np.pi*w_0**2)/(lambda_0)  # collision position\n",
    "beta_0 = 0.0\n",
    "\n",
    "start = time.time()\n",
    "KE_final = RPLG_acc_NoSTC(n, lambda_0, tau_0, w_0, P, Psi_0, phi_2, t_0, z_0, beta_0)\n",
    "end = time.time()\n",
    "\n",
    "print(end-start)\n",
    "print(KE_final)"
   ]
  },
  {
   "cell_type": "code",
   "execution_count": null,
   "metadata": {},
   "outputs": [],
   "source": []
  }
 ],
 "metadata": {
  "kernelspec": {
   "display_name": "Python 3",
   "language": "python",
   "name": "python3"
  },
  "language_info": {
   "codemirror_mode": {
    "name": "ipython",
    "version": 3
   },
   "file_extension": ".py",
   "mimetype": "text/x-python",
   "name": "python",
   "nbconvert_exporter": "python",
   "pygments_lexer": "ipython3",
   "version": "3.7.4"
  }
 },
 "nbformat": 4,
 "nbformat_minor": 2
}
