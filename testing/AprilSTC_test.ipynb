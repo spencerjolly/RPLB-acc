{
 "cells": [
  {
   "cell_type": "code",
   "execution_count": 1,
   "metadata": {},
   "outputs": [],
   "source": [
    "import matplotlib.pyplot as plt\n",
    "%matplotlib inline\n",
    "import numpy as np\n",
    "import xarray as xr\n",
    "import h5py\n",
    "from tqdm import tqdm\n",
    "import time\n",
    "\n",
    "from RPLB_acc_anySTC import RPLB_acc_anySTC\n",
    "from RPLB_acc_anySTCApril import RPLB_acc_anySTCApril"
   ]
  },
  {
   "cell_type": "code",
   "execution_count": 24,
   "metadata": {},
   "outputs": [
    {
     "name": "stdout",
     "output_type": "stream",
     "text": [
      "23199879.557625704\n",
      "23110217.649795588\n"
     ]
    }
   ],
   "source": [
    "c = 2.9979e8\n",
    "lambda_0 = 1800e-9  # central wavelength\n",
    "omega_0 = 2*np.pi*c/lambda_0\n",
    "\n",
    "s = 57.5\n",
    "tau_FWHM = np.sqrt(2)*s*np.sqrt(2**(2/(s+1))-1)/omega_0\n",
    "tau_0 = s*np.sqrt(np.exp(2/(s+1))-1)/omega_0\n",
    "\n",
    "NA = 0.2\n",
    "half_angle = np.arctan(NA)\n",
    "a = 2/(np.sin(half_angle)*np.tan(half_angle)*2*np.pi/lambda_0)  # set confocal parameter\n",
    "w_0 = 2/(np.tan(half_angle)*2*np.pi/lambda_0)  # set beam waist\n",
    "\n",
    "P = 10e12  # FL power\n",
    "Psi_0 = np.pi/2\n",
    "t_0 = -10*tau_0\n",
    "\n",
    "phi_2 = 0.0*(1e-15)**2  # Group Delay Dispersion s^2\n",
    "phi_3 = 0.0*(1e-15)**3  # TOD s^3\n",
    "phi_4 = 0.0*(1e-15)**4  # TOD s^4\n",
    "spec_phase_coeffs = np.array([phi_2, phi_3, phi_4])\n",
    "\n",
    "tau_p = 0.0*(1e-15)  # radial group delay s\n",
    "c_2 = 0.0*(1e-15)**2  # second order LC\n",
    "LC_coeffs = np.array([tau_p, c_2])\n",
    "\n",
    "g_0_coeffs = np.array([0.0])\n",
    "\n",
    "time, temp, temp, KE_final = RPLB_acc_anySTC(lambda_0, tau_0, w_0, P, Psi_0, spec_phase_coeffs, LC_coeffs, g_0_coeffs, t_0, 0.0, 0.0)\n",
    "time_April, temp, temp, KE_final_April = RPLB_acc_anySTCApril(lambda_0, s, a, P, Psi_0, spec_phase_coeffs, LC_coeffs, g_0_coeffs, t_0, 0.0, 0.0)\n",
    "\n",
    "print(KE_final[-1])\n",
    "print(KE_final_April[-1])"
   ]
  },
  {
   "cell_type": "code",
   "execution_count": 25,
   "metadata": {},
   "outputs": [
    {
     "data": {
      "text/plain": [
       "Text(0, 0.5, 'KE (keV)')"
      ]
     },
     "execution_count": 25,
     "metadata": {},
     "output_type": "execute_result"
    },
    {
     "data": {
      "image/png": "[encoded data removed]",
      "text/plain": [
       "<Figure size 432x288 with 1 Axes>"
      ]
     },
     "metadata": {
      "needs_background": "light"
     },
     "output_type": "display_data"
    }
   ],
   "source": [
    "plt.plot(time/1e-12, KE_final/1e3)\n",
    "plt.plot(time_April/1e-12, KE_final_April/1e3)\n",
    "plt.legend(['old method', 'April(2010)'], loc=0)\n",
    "plt.xlabel('Time (ps)')\n",
    "plt.ylabel('KE (keV)')"
   ]
  },
  {
   "cell_type": "code",
   "execution_count": null,
   "metadata": {},
   "outputs": [],
   "source": []
  },
  {
   "cell_type": "code",
   "execution_count": null,
   "metadata": {},
   "outputs": [],
   "source": []
  }
 ],
 "metadata": {
  "kernelspec": {
   "display_name": "Python 3",
   "language": "python",
   "name": "python3"
  },
  "language_info": {
   "codemirror_mode": {
    "name": "ipython",
    "version": 3
   },
   "file_extension": ".py",
   "mimetype": "text/x-python",
   "name": "python",
   "nbconvert_exporter": "python",
   "pygments_lexer": "ipython3",
   "version": "3.7.4"
  }
 },
 "nbformat": 4,
 "nbformat_minor": 2
}
