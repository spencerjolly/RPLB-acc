{
 "cells": [
  {
   "cell_type": "code",
   "execution_count": 6,
   "metadata": {},
   "outputs": [],
   "source": [
    "import matplotlib.pyplot as plt\n",
    "%matplotlib inline\n",
    "import numpy as np\n",
    "import xarray as xr\n",
    "import h5py\n",
    "from tqdm import tqdm\n",
    "import time\n",
    "import sys\n",
    "sys.path.append(\"..\")\n",
    "sys.path.append(\"../development\")\n",
    "from RPLB_acc_NoSTC import RPLB_acc_NoSTC\n",
    "from RPLB_acc_NoSTC_arbitrary import RPLB_acc_NoSTC_arbitrary"
   ]
  },
  {
   "cell_type": "code",
   "execution_count": 7,
   "metadata": {
    "scrolled": true
   },
   "outputs": [
    {
     "name": "stdout",
     "output_type": "stream",
     "text": [
      "2.0051319796881284e-06\n",
      "2.0131684841794813e-06\n"
     ]
    }
   ],
   "source": [
    "# initialize constants (SI units)\n",
    "c = 2.99792458e8 #speed of light\n",
    "m_e = 9.10938356e-31\n",
    "q_e = 1.60217662e-19\n",
    "e_0 = 8.85418782e-12\n",
    "# set pure spectral properties\n",
    "lambda_0 = 800e-9  # central wavelength\n",
    "omega_0 = 2*np.pi*c/lambda_0\n",
    "k_0 = omega_0/c\n",
    "tau_0 = 10e-15  # FL pulse duration 1/e2 intensity half-width (same def as beam waist)\n",
    "a = 125/k_0\n",
    "w_0 = np.sqrt(2)*np.sqrt(np.sqrt(1+(a*k_0)**2)-1)/k_0\n",
    "print(w_0)\n",
    "print(np.sqrt(2*a/k_0))\n",
    "# calculate Rayleigh range\n",
    "z_R = np.pi*w_0**2/lambda_0\n",
    "# beam power\n",
    "P = 10e12\n",
    "# spectral phase\n",
    "GDD = 0.0*(1e-15)**2\n",
    "TOD = 0.0*(1e-15)**3\n",
    "# intial electron velocity\n",
    "beta_0 = 0\n",
    "# set tuning parameters\n",
    "t_0 = -10*tau_0\n",
    "z_0 = 0.0\n",
    "Psi_0 = np.pi\n",
    "\n",
    "curv = 0.0\n",
    "spher = 0.0\n",
    "spher2 = 0.0\n",
    "spher3 = 0.0"
   ]
  },
  {
   "cell_type": "code",
   "execution_count": 8,
   "metadata": {
    "scrolled": true
   },
   "outputs": [],
   "source": [
    "start = time.time()\n",
    "time0, z0, beta0, KE0 = RPLB_acc_NoSTC(lambda_0, tau_0, w_0, P, Psi_0, GDD, t_0, z_0, beta_0)\n",
    "middle = time.time()\n",
    "time2, z2, beta2, KE2 = RPLB_acc_NoSTC_arbitrary(lambda_0, tau_0, a, P, Psi_0, GDD, t_0, z_0, beta_0, curv, spher, spher2, spher3)\n",
    "end = time.time()"
   ]
  },
  {
   "cell_type": "code",
   "execution_count": 9,
   "metadata": {},
   "outputs": [
    {
     "data": {
      "text/plain": [
       "[<matplotlib.lines.Line2D at 0x1f0b6f87520>]"
      ]
     },
     "execution_count": 9,
     "metadata": {},
     "output_type": "execute_result"
    },
    {
     "data": {
      "image/png": "[encoded data removed]",
      "text/plain": [
       "<Figure size 432x288 with 1 Axes>"
      ]
     },
     "metadata": {
      "needs_background": "light"
     },
     "output_type": "display_data"
    }
   ],
   "source": [
    "plt.plot(time0, KE0)\n",
    "plt.plot(time2, KE2)"
   ]
  },
  {
   "cell_type": "code",
   "execution_count": 10,
   "metadata": {},
   "outputs": [
    {
     "name": "stdout",
     "output_type": "stream",
     "text": [
      "0.20062947273254395\n",
      "3.0264201164245605\n"
     ]
    }
   ],
   "source": [
    "print(middle-start)\n",
    "print(end-middle)"
   ]
  },
  {
   "cell_type": "code",
   "execution_count": null,
   "metadata": {},
   "outputs": [],
   "source": []
  },
  {
   "cell_type": "code",
   "execution_count": null,
   "metadata": {},
   "outputs": [],
   "source": []
  }
 ],
 "metadata": {
  "kernelspec": {
   "display_name": "Python 3 (ipykernel)",
   "language": "python",
   "name": "python3"
  },
  "language_info": {
   "codemirror_mode": {
    "name": "ipython",
    "version": 3
   },
   "file_extension": ".py",
   "mimetype": "text/x-python",
   "name": "python",
   "nbconvert_exporter": "python",
   "pygments_lexer": "ipython3",
   "version": "3.9.12"
  }
 },
 "nbformat": 4,
 "nbformat_minor": 2
}
