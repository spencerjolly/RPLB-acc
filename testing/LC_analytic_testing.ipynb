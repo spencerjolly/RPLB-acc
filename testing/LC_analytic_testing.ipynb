{
 "cells": [
  {
   "cell_type": "code",
   "execution_count": 1,
   "metadata": {},
   "outputs": [],
   "source": [
    "import matplotlib.pyplot as plt\n",
    "%matplotlib inline\n",
    "import numpy as np\n",
    "import xarray as xr\n",
    "import h5py\n",
    "from tqdm import tqdm\n",
    "import time\n",
    "import sys\n",
    "sys.path.append(\"..\")\n",
    "sys.path.append(\"../development\")\n",
    "from RPLB_acc_LC import RPLB_acc_LC\n",
    "from RPLB_acc_LC_analytical import RPLB_acc_LC_analytical"
   ]
  },
  {
   "cell_type": "code",
   "execution_count": 2,
   "metadata": {
    "scrolled": true
   },
   "outputs": [
    {
     "name": "stdout",
     "output_type": "stream",
     "text": [
      "2.0051319796881284e-06\n",
      "2.0131684841794813e-06\n"
     ]
    }
   ],
   "source": [
    "# initialize constants (SI units)\n",
    "c = 2.99792458e8 #speed of light\n",
    "m_e = 9.10938356e-31\n",
    "q_e = 1.60217662e-19\n",
    "e_0 = 8.85418782e-12\n",
    "# set pure spectral properties\n",
    "lambda_0 = 800e-9  # central wavelength\n",
    "omega_0 = 2*np.pi*c/lambda_0\n",
    "k_0 = omega_0/c\n",
    "tau_0 = 10e-15  # FL pulse duration 1/e2 intensity half-width (same def as beam waist)\n",
    "a = 125/k_0\n",
    "w_0 = np.sqrt(2)*np.sqrt(np.sqrt(1+(a*k_0)**2)-1)/k_0\n",
    "print(w_0)\n",
    "print(np.sqrt(2*a/k_0))\n",
    "# calculate Rayleigh range\n",
    "z_R = np.pi*w_0**2/lambda_0\n",
    "# beam power\n",
    "P = 10e12\n",
    "# spectral phase\n",
    "phi_2 = 0.0*(1e-15)**2\n",
    "phi_3 = 0.0*(1e-15)**3\n",
    "# intial electron velocity\n",
    "beta_0 = 0\n",
    "# set tuning parameters\n",
    "t_0 = -10*tau_0\n",
    "z_0 = 0.0\n",
    "Psi_0 = 0.0*np.pi\n",
    "# set LC\n",
    "tau_p = 1*tau_0"
   ]
  },
  {
   "cell_type": "code",
   "execution_count": 3,
   "metadata": {
    "scrolled": true
   },
   "outputs": [
    {
     "name": "stderr",
     "output_type": "stream",
     "text": [
      "C:\\Users\\spenc\\Desktop\\Code_repositories\\RPLB-acc\\testing\\../development\\RPLB_acc_LC_analytical.py:62: RuntimeWarning: overflow encountered in multiply\n",
      "  field_total = Amp*field_temp*env_temp*const\n",
      "C:\\Users\\spenc\\Desktop\\Code_repositories\\RPLB-acc\\testing\\../development\\RPLB_acc_LC_analytical.py:62: RuntimeWarning: invalid value encountered in cdouble_scalars\n",
      "  field_total = Amp*field_temp*env_temp*const\n"
     ]
    }
   ],
   "source": [
    "start = time.time()\n",
    "time0, z0, beta0, KE0 = RPLB_acc_LC(lambda_0, tau_0, w_0, P, Psi_0, phi_2, phi_3, t_0, z_0, beta_0, tau_p)\n",
    "middle = time.time()\n",
    "time1, z1, beta1, KE1 = RPLB_acc_LC_analytical(lambda_0, tau_0, w_0, P, Psi_0, phi_2, phi_3, t_0, z_0, beta_0, tau_p)\n",
    "end = time.time()"
   ]
  },
  {
   "cell_type": "code",
   "execution_count": 4,
   "metadata": {},
   "outputs": [
    {
     "data": {
      "text/plain": [
       "[<matplotlib.lines.Line2D at 0x1dbb43df0a0>]"
      ]
     },
     "execution_count": 4,
     "metadata": {},
     "output_type": "execute_result"
    },
    {
     "data": {
      "image/png": "[encoded data removed]",
      "text/plain": [
       "<Figure size 432x288 with 1 Axes>"
      ]
     },
     "metadata": {
      "needs_background": "light"
     },
     "output_type": "display_data"
    }
   ],
   "source": [
    "plt.plot(time0, KE0+0e6)\n",
    "plt.plot(time1, KE1+1e6)"
   ]
  },
  {
   "cell_type": "code",
   "execution_count": 5,
   "metadata": {},
   "outputs": [
    {
     "name": "stdout",
     "output_type": "stream",
     "text": [
      "4.685641765594482\n",
      "942.3187766075134\n"
     ]
    }
   ],
   "source": [
    "print(middle-start)\n",
    "print(end-middle)"
   ]
  },
  {
   "cell_type": "code",
   "execution_count": null,
   "metadata": {},
   "outputs": [],
   "source": []
  },
  {
   "cell_type": "code",
   "execution_count": null,
   "metadata": {},
   "outputs": [],
   "source": []
  }
 ],
 "metadata": {
  "kernelspec": {
   "display_name": "Python 3 (ipykernel)",
   "language": "python",
   "name": "python3"
  },
  "language_info": {
   "codemirror_mode": {
    "name": "ipython",
    "version": 3
   },
   "file_extension": ".py",
   "mimetype": "text/x-python",
   "name": "python",
   "nbconvert_exporter": "python",
   "pygments_lexer": "ipython3",
   "version": "3.9.12"
  }
 },
 "nbformat": 4,
 "nbformat_minor": 4
}
