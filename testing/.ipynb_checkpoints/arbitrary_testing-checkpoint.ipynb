{
 "cells": [
  {
   "cell_type": "code",
   "execution_count": 1,
   "metadata": {},
   "outputs": [
    {
     "ename": "ModuleNotFoundError",
     "evalue": "No module named 'numba_special'",
     "output_type": "error",
     "traceback": [
      "\u001b[1;31m---------------------------------------------------------------------------\u001b[0m",
      "\u001b[1;31mModuleNotFoundError\u001b[0m                       Traceback (most recent call last)",
      "Input \u001b[1;32mIn [1]\u001b[0m, in \u001b[0;36m<cell line: 13>\u001b[1;34m()\u001b[0m\n\u001b[0;32m     11\u001b[0m \u001b[38;5;28;01mfrom\u001b[39;00m \u001b[38;5;21;01mRPLB_acc_NoSTC\u001b[39;00m \u001b[38;5;28;01mimport\u001b[39;00m RPLB_acc_NoSTC\n\u001b[0;32m     12\u001b[0m \u001b[38;5;28;01mfrom\u001b[39;00m \u001b[38;5;21;01mRPLB_acc_anySTC\u001b[39;00m \u001b[38;5;28;01mimport\u001b[39;00m RPLB_acc_anySTC\n\u001b[1;32m---> 13\u001b[0m \u001b[38;5;28;01mfrom\u001b[39;00m \u001b[38;5;21;01mRPLB_acc_NoSTC_arbitrary_analytical\u001b[39;00m \u001b[38;5;28;01mimport\u001b[39;00m RPLB_acc_NoSTC_arbitrary_analytical\n\u001b[0;32m     14\u001b[0m \u001b[38;5;28;01mfrom\u001b[39;00m \u001b[38;5;21;01mRPLB_acc_NoSTC_arbitrary\u001b[39;00m \u001b[38;5;28;01mimport\u001b[39;00m RPLB_acc_NoSTC_arbitrary\n\u001b[0;32m     15\u001b[0m \u001b[38;5;28;01mfrom\u001b[39;00m \u001b[38;5;21;01mRPLB_acc_NoSTC_arbitrary_alsointensity\u001b[39;00m \u001b[38;5;28;01mimport\u001b[39;00m RPLB_acc_NoSTC_arbitrary_alsointensity\n",
      "File \u001b[1;32m~\\Desktop\\Code_repositories\\RPLB-acc\\testing\\../development\\RPLB_acc_NoSTC_arbitrary_analytical.py:3\u001b[0m, in \u001b[0;36m<module>\u001b[1;34m\u001b[0m\n\u001b[0;32m      1\u001b[0m \u001b[38;5;28;01mimport\u001b[39;00m \u001b[38;5;21;01mnumpy\u001b[39;00m \u001b[38;5;28;01mas\u001b[39;00m \u001b[38;5;21;01mnp\u001b[39;00m\n\u001b[0;32m      2\u001b[0m \u001b[38;5;28;01mfrom\u001b[39;00m \u001b[38;5;21;01mscipy\u001b[39;00m\u001b[38;5;21;01m.\u001b[39;00m\u001b[38;5;21;01mspecial\u001b[39;00m \u001b[38;5;28;01mimport\u001b[39;00m erfc\n\u001b[1;32m----> 3\u001b[0m \u001b[38;5;28;01mimport\u001b[39;00m \u001b[38;5;21;01mnumba_special\u001b[39;00m\n\u001b[0;32m      4\u001b[0m \u001b[38;5;66;03m#from numba.extending import get_cython_function_address\u001b[39;00m\n\u001b[0;32m      5\u001b[0m \u001b[38;5;28;01mfrom\u001b[39;00m \u001b[38;5;21;01mnumba\u001b[39;00m \u001b[38;5;28;01mimport\u001b[39;00m jit, njit\n",
      "\u001b[1;31mModuleNotFoundError\u001b[0m: No module named 'numba_special'"
     ]
    }
   ],
   "source": [
    "import matplotlib.pyplot as plt\n",
    "%matplotlib inline\n",
    "import numpy as np\n",
    "import xarray as xr\n",
    "import h5py\n",
    "from tqdm import tqdm\n",
    "import time\n",
    "import sys\n",
    "sys.path.append(\"..\")\n",
    "sys.path.append(\"../development\")\n",
    "from RPLB_acc_NoSTC import RPLB_acc_NoSTC\n",
    "from RPLB_acc_anySTC import RPLB_acc_anySTC\n",
    "from RPLB_acc_NoSTC_arbitrary_analytical import RPLB_acc_NoSTC_arbitrary_analytical\n",
    "from RPLB_acc_NoSTC_arbitrary import RPLB_acc_NoSTC_arbitrary\n",
    "from RPLB_acc_NoSTC_arbitrary_alsointensity import RPLB_acc_NoSTC_arbitrary_alsointensity\n",
    "from RPLB_acc_anySTC_arbitrary import RPLB_acc_anySTC_arbitrary"
   ]
  },
  {
   "cell_type": "code",
   "execution_count": 11,
   "metadata": {
    "scrolled": true
   },
   "outputs": [
    {
     "name": "stdout",
     "output_type": "stream",
     "text": [
      "2.0051319796881284e-06\n",
      "2.0131684841794813e-06\n"
     ]
    }
   ],
   "source": [
    "# initialize constants (SI units)\n",
    "c = 2.99792458e8 #speed of light\n",
    "m_e = 9.10938356e-31\n",
    "q_e = 1.60217662e-19\n",
    "e_0 = 8.85418782e-12\n",
    "# set pure spectral properties\n",
    "lambda_0 = 800e-9  # central wavelength\n",
    "omega_0 = 2*np.pi*c/lambda_0\n",
    "k_0 = omega_0/c\n",
    "tau_0 = 10e-15  # FL pulse duration 1/e2 intensity half-width (same def as beam waist)\n",
    "a = 125/k_0\n",
    "w_0 = np.sqrt(2)*np.sqrt(np.sqrt(1+(a*k_0)**2)-1)/k_0\n",
    "print(w_0)\n",
    "print(np.sqrt(2*a/k_0))\n",
    "# calculate Rayleigh range\n",
    "z_R = np.pi*w_0**2/lambda_0\n",
    "# beam power\n",
    "P = 6e12\n",
    "# spectral phase\n",
    "GDD = 0.0*(1e-15)**2\n",
    "TOD = 0.0*(1e-15)**3\n",
    "# intial electron velocity\n",
    "beta_0 = 0\n",
    "# set tuning parameters\n",
    "t_0 = -10*tau_0\n",
    "z_0 = 0.0\n",
    "Psi_0 = 1.0*np.pi\n",
    "\n",
    "axicon = 0.0\n",
    "curv = 0.0\n",
    "spher = 0.0\n",
    "spher2 = 0.0\n",
    "\n",
    "PM_1 = np.zeros(shape=(9))\n",
    "PM_1[0] = Psi_0\n",
    "PM_1[1] = axicon\n",
    "PM_1[2] = curv\n",
    "PM_1[3] = spher\n",
    "PM_1[4] = spher2\n",
    "\n",
    "PM_2 = np.zeros(shape=(5, 5))\n",
    "PM_2[0,0] = Psi_0\n",
    "PM_2[2,0] = GDD\n",
    "PM_2[3,0] = TOD\n",
    "\n",
    "SP = np.zeros(shape=(9))"
   ]
  },
  {
   "cell_type": "code",
   "execution_count": null,
   "metadata": {
    "scrolled": true
   },
   "outputs": [],
   "source": [
    "start = time.time()\n",
    "time0, z0, beta0, KE0 = RPLB_acc_NoSTC(lambda_0, tau_0, w_0, P, Psi_0, GDD, t_0, z_0, beta_0)\n",
    "middle = time.time()\n",
    "time2, z2, beta2, KE2 = RPLB_acc_NoSTC_arbitrary(lambda_0, tau_0, a, P, PM_1, GDD, t_0, z_0, beta_0)\n",
    "end = time.time()\n",
    "#time3, z3, beta3, KE3 = RPLB_acc_anySTC(lambda_0, tau_0, w_0, P, Psi_0, np.array([0.0, 0.0]), np.array([0.0, 0.0]), np.array([0.0]), t_0, z_0, beta_0)\n",
    "#time4, z4, beta4, KE4 = RPLB_acc_anySTC_arbitrary(lambda_0, tau_0, a, P, PM_2, t_0, z_0, beta_0)\n",
    "\n",
    "time5, z5, beta5, KE5 = RPLB_acc_NoSTC_arbitrary_analytical(lambda_0, tau_0, a, P, Psi_0, GDD, t_0, z_0, beta_0, spher)\n",
    "\n",
    "#time6, z6, beta6, KE6 = RPLB_acc_NoSTC_arbitrary_alsointensity(lambda_0, tau_0, a, P, SP, PM_1, GDD, t_0, z_0, beta_0)"
   ]
  },
  {
   "cell_type": "code",
   "execution_count": null,
   "metadata": {},
   "outputs": [],
   "source": [
    "plt.plot(time0, KE0+0e6)\n",
    "plt.plot(time2, KE2+1e6)\n",
    "#plt.plot(time3, KE3+2e6)\n",
    "#plt.plot(time4, KE4+3e6)\n",
    "plt.plot(time5, KE5+4e6)\n",
    "#plt.plot(time6, KE6+5e6)"
   ]
  },
  {
   "cell_type": "code",
   "execution_count": 5,
   "metadata": {},
   "outputs": [
    {
     "name": "stdout",
     "output_type": "stream",
     "text": [
      "3.1798768043518066\n",
      "4.57535195350647\n"
     ]
    }
   ],
   "source": [
    "print(middle-start)\n",
    "print(end-middle)"
   ]
  },
  {
   "cell_type": "code",
   "execution_count": null,
   "metadata": {},
   "outputs": [],
   "source": []
  },
  {
   "cell_type": "code",
   "execution_count": 7,
   "metadata": {},
   "outputs": [],
   "source": []
  }
 ],
 "metadata": {
  "kernelspec": {
   "display_name": "Python 3 (ipykernel)",
   "language": "python",
   "name": "python3"
  },
  "language_info": {
   "codemirror_mode": {
    "name": "ipython",
    "version": 3
   },
   "file_extension": ".py",
   "mimetype": "text/x-python",
   "name": "python",
   "nbconvert_exporter": "python",
   "pygments_lexer": "ipython3",
   "version": "3.9.12"
  }
 },
 "nbformat": 4,
 "nbformat_minor": 2
}
