{
 "cells": [
  {
   "cell_type": "code",
   "execution_count": 2,
   "metadata": {},
   "outputs": [],
   "source": [
    "import matplotlib.pyplot as plt\n",
    "%matplotlib inline\n",
    "import numpy as np\n",
    "import xarray as xr\n",
    "import h5py\n",
    "from tqdm import tqdm\n",
    "import time\n",
    "\n",
    "from RPLB_acc_NoSTC import RPLB_acc_NoSTC\n",
    "from RPLB_acc_LC import RPLB_acc_LC\n",
    "from RPLB_acc_NoSTCApril import RPLB_acc_NoSTCApril\n",
    "from RPLB_acc_LCApril import RPLB_acc_LCApril"
   ]
  },
  {
   "cell_type": "code",
   "execution_count": 7,
   "metadata": {},
   "outputs": [
    {
     "name": "stdout",
     "output_type": "stream",
     "text": [
      "5.09\n"
     ]
    }
   ],
   "source": [
    "c = 2.9979e8\n",
    "lambda_0 = 800e-9  # central wavelength\n",
    "omega_0 = 2*np.pi*c/lambda_0\n",
    "\n",
    "s = 57.5\n",
    "tau_FWHM = np.sqrt(2)*s*np.sqrt(2**(2/(s+1))-1)/omega_0\n",
    "tau_0 = s*np.sqrt(np.exp(2/(s+1))-1)/omega_0\n",
    "\n",
    "NA = 0.05\n",
    "half_angle = np.arcsin(NA)\n",
    "a = 2/(np.sin(half_angle)*np.tan(half_angle)*2*np.pi/lambda_0)  # set confocal parameter\n",
    "w_0 = 2/(np.tan(half_angle)*2*np.pi/lambda_0)  # set beam waist\n",
    "print('{0:.3g}'.format(1e6*w_0))\n",
    "\n",
    "P = 100e12  # FL power\n",
    "Psi_0 = 0.0*np.pi\n",
    "t_0 = -10*tau_0"
   ]
  },
  {
   "cell_type": "code",
   "execution_count": 8,
   "metadata": {},
   "outputs": [
    {
     "ename": "SystemError",
     "evalue": "CPUDispatcher(<function RPLB_acc_NoSTC at 0x000001F10AB3D438>) returned a result with an error set",
     "output_type": "error",
     "traceback": [
      "\u001b[1;31m---------------------------------------------------------------------------\u001b[0m",
      "\u001b[1;31mTypeError\u001b[0m                                 Traceback (most recent call last)",
      "\u001b[1;31mTypeError\u001b[0m: expected dtype object, got 'numpy.dtype[float64]'",
      "\nThe above exception was the direct cause of the following exception:\n",
      "\u001b[1;31mSystemError\u001b[0m                               Traceback (most recent call last)",
      "\u001b[1;32m<ipython-input-8-1077ae1601c1>\u001b[0m in \u001b[0;36m<module>\u001b[1;34m\u001b[0m\n\u001b[1;32m----> 1\u001b[1;33m \u001b[0mt\u001b[0m\u001b[1;33m,\u001b[0m \u001b[0mtemp\u001b[0m\u001b[1;33m,\u001b[0m \u001b[0mtemp\u001b[0m\u001b[1;33m,\u001b[0m \u001b[0mKE_final\u001b[0m \u001b[1;33m=\u001b[0m \u001b[0mRPLB_acc_NoSTC\u001b[0m\u001b[1;33m(\u001b[0m\u001b[0mlambda_0\u001b[0m\u001b[1;33m,\u001b[0m \u001b[0mtau_0\u001b[0m\u001b[1;33m,\u001b[0m \u001b[0mw_0\u001b[0m\u001b[1;33m,\u001b[0m \u001b[0mP\u001b[0m\u001b[1;33m,\u001b[0m \u001b[0mPsi_0\u001b[0m\u001b[1;33m,\u001b[0m \u001b[1;36m0.0\u001b[0m\u001b[1;33m,\u001b[0m \u001b[0mt_0\u001b[0m\u001b[1;33m,\u001b[0m \u001b[1;36m0.0\u001b[0m\u001b[1;33m,\u001b[0m \u001b[1;36m0.0\u001b[0m\u001b[1;33m)\u001b[0m\u001b[1;33m\u001b[0m\u001b[1;33m\u001b[0m\u001b[0m\n\u001b[0m\u001b[0;32m      2\u001b[0m \u001b[0mt_LC\u001b[0m\u001b[1;33m,\u001b[0m \u001b[0mtemp\u001b[0m\u001b[1;33m,\u001b[0m \u001b[0mtemp\u001b[0m\u001b[1;33m,\u001b[0m \u001b[0mKE_final_LC\u001b[0m \u001b[1;33m=\u001b[0m \u001b[0mRPLB_acc_LC\u001b[0m\u001b[1;33m(\u001b[0m\u001b[0mlambda_0\u001b[0m\u001b[1;33m,\u001b[0m \u001b[0mtau_0\u001b[0m\u001b[1;33m,\u001b[0m \u001b[0mw_0\u001b[0m\u001b[1;33m,\u001b[0m \u001b[0mP\u001b[0m\u001b[1;33m,\u001b[0m \u001b[0mPsi_0\u001b[0m\u001b[1;33m,\u001b[0m \u001b[1;36m0.0\u001b[0m\u001b[1;33m,\u001b[0m \u001b[1;36m0.0\u001b[0m\u001b[1;33m,\u001b[0m \u001b[0mt_0\u001b[0m\u001b[1;33m,\u001b[0m \u001b[1;36m0.0\u001b[0m\u001b[1;33m,\u001b[0m \u001b[1;36m0.0\u001b[0m\u001b[1;33m,\u001b[0m \u001b[1;36m0.0\u001b[0m\u001b[1;33m)\u001b[0m\u001b[1;33m\u001b[0m\u001b[1;33m\u001b[0m\u001b[0m\n\u001b[0;32m      3\u001b[0m \u001b[0mt_April\u001b[0m\u001b[1;33m,\u001b[0m \u001b[0mtemp\u001b[0m\u001b[1;33m,\u001b[0m \u001b[0mtemp\u001b[0m\u001b[1;33m,\u001b[0m \u001b[0mKE_final_April\u001b[0m \u001b[1;33m=\u001b[0m \u001b[0mRPLB_acc_NoSTCApril\u001b[0m\u001b[1;33m(\u001b[0m\u001b[0mlambda_0\u001b[0m\u001b[1;33m,\u001b[0m \u001b[0ms\u001b[0m\u001b[1;33m,\u001b[0m \u001b[0ma\u001b[0m\u001b[1;33m,\u001b[0m \u001b[0mP\u001b[0m\u001b[1;33m,\u001b[0m \u001b[0mPsi_0\u001b[0m\u001b[1;33m,\u001b[0m \u001b[0mt_0\u001b[0m\u001b[1;33m,\u001b[0m \u001b[1;36m0.0\u001b[0m\u001b[1;33m,\u001b[0m \u001b[1;36m0.0\u001b[0m\u001b[1;33m)\u001b[0m\u001b[1;33m\u001b[0m\u001b[1;33m\u001b[0m\u001b[0m\n\u001b[0;32m      4\u001b[0m \u001b[0mt_April_LC\u001b[0m\u001b[1;33m,\u001b[0m \u001b[0mtemp\u001b[0m\u001b[1;33m,\u001b[0m \u001b[0mtemp\u001b[0m\u001b[1;33m,\u001b[0m \u001b[0mKE_final_April_LC\u001b[0m \u001b[1;33m=\u001b[0m \u001b[0mRPLB_acc_LCApril\u001b[0m\u001b[1;33m(\u001b[0m\u001b[0mlambda_0\u001b[0m\u001b[1;33m,\u001b[0m \u001b[0ms\u001b[0m\u001b[1;33m,\u001b[0m \u001b[0ma\u001b[0m\u001b[1;33m,\u001b[0m \u001b[0mP\u001b[0m\u001b[1;33m,\u001b[0m \u001b[0mPsi_0\u001b[0m\u001b[1;33m,\u001b[0m \u001b[1;36m0.0\u001b[0m\u001b[1;33m,\u001b[0m \u001b[1;36m0.0\u001b[0m\u001b[1;33m,\u001b[0m \u001b[0mt_0\u001b[0m\u001b[1;33m,\u001b[0m \u001b[1;36m0.0\u001b[0m\u001b[1;33m,\u001b[0m \u001b[1;36m0.0\u001b[0m\u001b[1;33m,\u001b[0m \u001b[1;36m0.0\u001b[0m\u001b[1;33m)\u001b[0m\u001b[1;33m\u001b[0m\u001b[1;33m\u001b[0m\u001b[0m\n\u001b[0;32m      5\u001b[0m \u001b[1;33m\u001b[0m\u001b[0m\n",
      "\u001b[1;31mSystemError\u001b[0m: CPUDispatcher(<function RPLB_acc_NoSTC at 0x000001F10AB3D438>) returned a result with an error set"
     ]
    }
   ],
   "source": [
    "t, temp, temp, KE = RPLB_acc_NoSTC(lambda_0, tau_0, w_0, P, Psi_0, 0.0, t_0, 0.0, 0.0)\n",
    "t_LC, temp, temp, KE_LC = RPLB_acc_LC(lambda_0, tau_0, w_0, P, Psi_0, 0.0, 0.0, t_0, 0.0, 0.0, 0.0)\n",
    "t_April, temp, temp, KE_April = RPLB_acc_NoSTCApril(lambda_0, s, a, P, Psi_0, t_0, 0.0, 0.0)\n",
    "t_April_LC, temp, temp, KE_April_LC = RPLB_acc_LCApril(lambda_0, s, a, P, Psi_0, 0.0, 0.0, t_0, 0.0, 0.0, 0.0)\n",
    "\n",
    "print(KE[-1])\n",
    "print(KE_LC[-1])\n",
    "print(KE_April[-1])\n",
    "print(KE_April_LC[-1])"
   ]
  },
  {
   "cell_type": "code",
   "execution_count": null,
   "metadata": {},
   "outputs": [],
   "source": [
    "plt.plot(t/1e-12, KE/1e3)\n",
    "plt.plot(t_LC/1e-12, KE_LC/1e3)\n",
    "plt.plot(t_April/1e-12, KE_April/1e3)\n",
    "plt.plot(t_April_LC/1e-12, KE_April_LC/1e3)\n",
    "plt.legend(['old method', 'old+LC', 'April(2010)', 'April+LC'], loc=0)\n",
    "plt.title('P='+'{0:.3g}'.format(P/1e12)+' TW, $w_0$='+'{0:.3g}'.format(1e6*w_0)+r' $\\mu$m')\n",
    "plt.xlabel('Time (ps)')\n",
    "plt.ylabel('KE (keV)')\n",
    "plt.tight_layout()"
   ]
  },
  {
   "cell_type": "code",
   "execution_count": null,
   "metadata": {},
   "outputs": [],
   "source": []
  }
 ],
 "metadata": {
  "kernelspec": {
   "display_name": "Python 3",
   "language": "python",
   "name": "python3"
  },
  "language_info": {
   "codemirror_mode": {
    "name": "ipython",
    "version": 3
   },
   "file_extension": ".py",
   "mimetype": "text/x-python",
   "name": "python",
   "nbconvert_exporter": "python",
   "pygments_lexer": "ipython3",
   "version": "3.7.4"
  }
 },
 "nbformat": 4,
 "nbformat_minor": 2
}
