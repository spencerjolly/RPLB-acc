{
 "cells": [
  {
   "cell_type": "code",
   "execution_count": 1,
   "metadata": {},
   "outputs": [],
   "source": [
    "import matplotlib.pyplot as plt\n",
    "%matplotlib inline\n",
    "import numpy as np\n",
    "import xarray as xr\n",
    "import h5py\n",
    "from tqdm import tqdm\n",
    "import time\n",
    "\n",
    "from APLB_acc_NoSTC_3D import APLB_acc_NoSTC_3D\n",
    "from APLB_acc_NoSTCApril_3D import APLB_acc_NoSTCApril_3D"
   ]
  },
  {
   "cell_type": "code",
   "execution_count": 5,
   "metadata": {},
   "outputs": [],
   "source": [
    "c = 2.9979e8\n",
    "lambda_0 = 1800e-9  # central wavelength\n",
    "omega_0 = 2*np.pi*c/lambda_0\n",
    "\n",
    "s = 57.5\n",
    "tau_FWHM = np.sqrt(2)*s*np.sqrt(2**(2/(s+1))-1)/omega_0\n",
    "tau_0 = s*np.sqrt(np.exp(2/(s+1))-1)/omega_0\n",
    "# print(tau_0)\n",
    "\n",
    "NA = 0.1\n",
    "half_angle = np.arcsin(NA)\n",
    "a = 2/(np.sin(half_angle)*np.tan(half_angle)*2*np.pi/lambda_0)  # set confocal parameter\n",
    "w_0 = 2/(np.tan(half_angle)*2*np.pi/lambda_0)  # set beam waist\n",
    "# print('{0:.3g}'.format(1e6*w_0))\n",
    "\n",
    "P = 100e12  # FL power\n",
    "t_0 = -10*tau_0\n",
    "\n",
    "x_0 = 0.2*w_0\n",
    "y_0 = 0.2*w_0"
   ]
  },
  {
   "cell_type": "code",
   "execution_count": 6,
   "metadata": {},
   "outputs": [
    {
     "data": {
      "text/plain": [
       "[<matplotlib.lines.Line2D at 0x1b1da7c01c8>]"
      ]
     },
     "execution_count": 6,
     "metadata": {},
     "output_type": "execute_result"
    },
    {
     "data": {
      "image/png": "[encoded data removed]",
      "text/plain": [
       "<Figure size 432x288 with 1 Axes>"
      ]
     },
     "metadata": {
      "needs_background": "light"
     },
     "output_type": "display_data"
    }
   ],
   "source": [
    "t, z, x, y, v_z, v_x, v_y, KE = APLB_acc_NoSTC_3D(lambda_0, tau_0, w_0, P, 0.0, 0.0, t_0, 0.0, x_0, y_0, 0.0)\n",
    "t_April, z, x, y, v_z, v_x, v_y, KE_April = APLB_acc_NoSTCApril_3D(lambda_0, s, a, P, 0.0, t_0, 0.0, x_0, y_0, 0.0)\n",
    "\n",
    "plt.plot(t, KE)\n",
    "plt.plot(t_April, KE_April)"
   ]
  },
  {
   "cell_type": "code",
   "execution_count": null,
   "metadata": {},
   "outputs": [],
   "source": []
  },
  {
   "cell_type": "code",
   "execution_count": null,
   "metadata": {},
   "outputs": [],
   "source": []
  }
 ],
 "metadata": {
  "kernelspec": {
   "display_name": "Python 3",
   "language": "python",
   "name": "python3"
  },
  "language_info": {
   "codemirror_mode": {
    "name": "ipython",
    "version": 3
   },
   "file_extension": ".py",
   "mimetype": "text/x-python",
   "name": "python",
   "nbconvert_exporter": "python",
   "pygments_lexer": "ipython3",
   "version": "3.7.4"
  }
 },
 "nbformat": 4,
 "nbformat_minor": 5
}
