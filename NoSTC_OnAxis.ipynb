{
 "cells": [
  {
   "cell_type": "code",
   "execution_count": 1,
   "metadata": {},
   "outputs": [],
   "source": [
    "import matplotlib.pyplot as plt\n",
    "%matplotlib inline\n",
    "import numpy as np\n",
    "import xarray as xr\n",
    "import h5py\n",
    "from tqdm import tqdm"
   ]
  },
  {
   "cell_type": "code",
   "execution_count": 2,
   "metadata": {
    "scrolled": true
   },
   "outputs": [],
   "source": [
    "# initialize constants (SI units)\n",
    "c = 2.99792458e8 #speed of light\n",
    "m_e = 9.10938356e-31\n",
    "q_e = 1.60217662e-19\n",
    "e_0 = 8.85418782e-12\n",
    "# set pure spectral properties\n",
    "lambda_0 = 800e-9  # central wavelength\n",
    "tau_0 = 10e-15  # FL pulse duration 1/e2 intensity half-width (same def as beam waist)\n",
    "# quick frequency properties\n",
    "omega_0 = 2*np.pi*c/lambda_0\n",
    "# set initial beam waist\n",
    "w_00 = 2e-6\n",
    "# calculate Rayleigh range and beam waist\n",
    "z_R0 = (omega_0*w_00**2)/(2*c)\n",
    "z_R = np.copy(z_R0)"
   ]
  },
  {
   "cell_type": "code",
   "execution_count": 3,
   "metadata": {
    "scrolled": true
   },
   "outputs": [],
   "source": [
    "GDD_0 = 0  # Group Delay Dispersion fs^2\n",
    "GDD = GDD_0*(1e-15)**2\n",
    "tau_p = np.sqrt(tau_0**2 + (2*GDD/tau_0)**2)\n",
    "# beam power\n",
    "P = 5.5e12\n",
    "Amp = np.sqrt(8*P/(np.pi*e_0*c))\n",
    "# set tuning parameters\n",
    "z_0 = np.linspace(-1*z_R0, +1*z_R0, 3, endpoint=True)\n",
    "Psi_0 = np.linspace(0, 2*np.pi, 2, endpoint=False)"
   ]
  },
  {
   "cell_type": "code",
   "execution_count": 4,
   "metadata": {},
   "outputs": [
    {
     "name": "stderr",
     "output_type": "stream",
     "text": [
      "100%|█████████████████████████████████████████████████████████████████████████| 84316/84316 [00:05<00:00, 16052.98it/s]\n",
      "  2%|█▌                                                                        | 1841/84316 [00:00<00:05, 16174.75it/s]"
     ]
    },
    {
     "name": "stdout",
     "output_type": "stream",
     "text": [
      "1:1\n"
     ]
    },
    {
     "name": "stderr",
     "output_type": "stream",
     "text": [
      "100%|█████████████████████████████████████████████████████████████████████████| 84316/84316 [00:05<00:00, 16070.69it/s]\n",
      "  2%|█▍                                                                        | 1701/84316 [00:00<00:05, 15451.69it/s]"
     ]
    },
    {
     "name": "stdout",
     "output_type": "stream",
     "text": [
      "1:2\n"
     ]
    },
    {
     "name": "stderr",
     "output_type": "stream",
     "text": [
      "100%|█████████████████████████████████████████████████████████████████████████| 84316/84316 [00:05<00:00, 15811.71it/s]\n",
      "  4%|██▉                                                                       | 3413/84316 [00:00<00:04, 16581.14it/s]"
     ]
    },
    {
     "name": "stdout",
     "output_type": "stream",
     "text": [
      "2:1\n"
     ]
    },
    {
     "name": "stderr",
     "output_type": "stream",
     "text": [
      "100%|█████████████████████████████████████████████████████████████████████████| 84316/84316 [00:05<00:00, 15482.27it/s]\n",
      "  4%|██▊                                                                       | 3145/84316 [00:00<00:05, 15533.90it/s]"
     ]
    },
    {
     "name": "stdout",
     "output_type": "stream",
     "text": [
      "2:2\n"
     ]
    },
    {
     "name": "stderr",
     "output_type": "stream",
     "text": [
      "100%|█████████████████████████████████████████████████████████████████████████| 84316/84316 [00:05<00:00, 15375.49it/s]\n",
      "  2%|█▍                                                                        | 1658/84316 [00:00<00:05, 16052.40it/s]"
     ]
    },
    {
     "name": "stdout",
     "output_type": "stream",
     "text": [
      "3:1\n"
     ]
    },
    {
     "name": "stderr",
     "output_type": "stream",
     "text": [
      "100%|█████████████████████████████████████████████████████████████████████████| 84316/84316 [00:05<00:00, 15706.13it/s]"
     ]
    },
    {
     "name": "stdout",
     "output_type": "stream",
     "text": [
      "3:2\n"
     ]
    },
    {
     "name": "stderr",
     "output_type": "stream",
     "text": [
      "\n"
     ]
    }
   ],
   "source": [
    "t_start = -50*tau_0\n",
    "t_end = +400*tau_0\n",
    "n = 50\n",
    "# create variables\n",
    "beta_final = np.zeros(shape=(len(z_0),len(Psi_0)))\n",
    "KE_final = np.zeros(shape=(len(z_0),len(Psi_0)))\n",
    "#loop over inital position of test particle\n",
    "for i in range(0, len(z_0)):\n",
    "    # loop over CEO phase of laser\n",
    "    for j in range(0, len(Psi_0)):\n",
    "        num_t = np.int_(np.round(n*(t_end-t_start)/(lambda_0/c)))\n",
    "        time = np.linspace(t_start,t_end,num_t)\n",
    "        dt = time[1]-time[0]\n",
    "        z = np.empty(shape=(len(time)))\n",
    "        beta = np.empty(shape=(len(time)))\n",
    "        deriv1 = np.empty(shape=(len(time)))\n",
    "        deriv2 = np.empty(shape=(len(time)))\n",
    "        beta[0] = 0.0\n",
    "        z[0] = beta[0]*c*time[0]+z_0[i]\n",
    "\n",
    "        # do 5th order Adams-Bashforth finite difference method\n",
    "        for k in tqdm(range(0, len(time)-1)):\n",
    "            deriv1[k] = beta[k]*c\n",
    "            \n",
    "            field_temp = np.cos(Psi_0[j]+2*np.arctan(z[k]/z_R0)+omega_0*time[k]-omega_0*z[k]/c)/(z_R0*(1+(z[k]/z_R0)**2))\n",
    "            env_temp = np.exp(-((time[k]-z[k]/c)/tau_p)**2)\n",
    "            temp_phase = np.exp(1j*(2*GDD/(tau_0**4+(2*GDD)**2))*(time[k]-z[k]/c)**2)\n",
    "            field_total = Amp*(tau_0/tau_p)*field_temp*env_temp*temp_phase\n",
    "            deriv2[k] = (-q_e*np.real(field_total)*((1-beta[k]**2)**(3/2))/(m_e*c))\n",
    "            if k==0:\n",
    "                z[k+1] = z[k] + dt*deriv1[k]\n",
    "                beta[k+1] = beta[k] + dt*deriv2[k]\n",
    "            elif k==1:\n",
    "                z[k+1] = z[k] + dt*(1.5*deriv1[k]-0.5*deriv1[k-1])\n",
    "                beta[k+1] = beta[k] + dt*(1.5*deriv2[k]-0.5*deriv2[k-1])\n",
    "            elif k==2:\n",
    "                z[k+1] = z[k] + dt*((23/12)*deriv1[k]-(4/3)*deriv1[k-1]+(5/12)*deriv1[k-2])\n",
    "                beta[k+1] = beta[k] + dt*((23/12)*deriv2[k]-(4/3)*deriv2[k-1]+(5/12)*deriv2[k-2])\n",
    "            elif k==3:\n",
    "                z[k+1] = z[k] + dt*((55/24)*deriv1[k]-(59/24)*deriv1[k-1]+(37/24)*deriv1[k-2]-(3/8)*deriv1[k-3])\n",
    "                beta[k+1] = beta[k] + dt*((55/24)*deriv2[k]-(59/24)*deriv2[k-1]+(37/24)*deriv2[k-2]-(3/8)*deriv2[k-3])\n",
    "            else:\n",
    "                z[k+1] = z[k] + dt*((1901/720)*deriv1[k]-(1387/360)*deriv1[k-1]+(109/30)*deriv1[k-2]-(637/360)*deriv1[k-3]+(251/720)*deriv1[k-4])\n",
    "                beta[k+1] = beta[k] + dt*((1901/720)*deriv2[k]-(1387/360)*deriv2[k-1]+(109/30)*deriv2[k-2]-(637/360)*deriv2[k-3]+(251/720)*deriv2[k-4])\n",
    "                \n",
    "        KE = ((1/np.sqrt(1-beta**2))-1)*m_e*c**2/q_e\n",
    "        beta_final[i,j] = beta[-1]\n",
    "        KE_final[i,j] = KE[-1]\n",
    "        print(str(i+1)+':'+str(j+1))\n",
    "\n",
    "beta_final = xr.DataArray(beta_final, coords=[z_0/z_R0, Psi_0], dims=['z_0', 'CEO'])\n",
    "KE_final = xr.DataArray(KE_final, coords=[z_0/z_R0, Psi_0], dims=['z_0', 'CEO'])"
   ]
  },
  {
   "cell_type": "code",
   "execution_count": 5,
   "metadata": {},
   "outputs": [
    {
     "name": "stdout",
     "output_type": "stream",
     "text": [
      "<xarray.DataArray ()>\n",
      "array(881466.47539467)\n"
     ]
    },
    {
     "data": {
      "image/png": "[encoded data removed]",
      "text/plain": [
       "<Figure size 1080x360 with 4 Axes>"
      ]
     },
     "metadata": {
      "needs_background": "light"
     },
     "output_type": "display_data"
    }
   ],
   "source": [
    "plt.figure(figsize=(15,5))\n",
    "\n",
    "ax1=plt.subplot(1,3,1)\n",
    "(KE_final/1e6).plot()\n",
    "ax1.set_title('Full optimization space')\n",
    "ax2=plt.subplot(1,3,2)\n",
    "plt.plot(z_0/z_R0,np.max(KE_final,1)/1e6)\n",
    "plt.xlabel('z(0)/$z_R$')\n",
    "plt.ylabel('KE final (MeV)')\n",
    "ax2.set_title('Optimum z(0)')\n",
    "ax3=plt.subplot(1,3,3)\n",
    "plt.plot(Psi_0,np.max(KE_final,0)/1e6)\n",
    "plt.xlabel('CEP (radians)')\n",
    "plt.ylabel('KE final (MeV)')\n",
    "ax3.set_title('Optimum CEP')\n",
    "\n",
    "plt.tight_layout()\n",
    "\n",
    "#plt.savefig('data/NoSTC_OnAxis_'+str(np.int_(P/1e12))+'TW_'+str(np.int_(tau_0*1e15))+'fs_'+str(np.int_(w_00*1e6))+'um_'+str(beta[0])+'_optimization.png')\n",
    "\n",
    "print(np.max(np.max(KE_final)))"
   ]
  },
  {
   "cell_type": "code",
   "execution_count": 6,
   "metadata": {},
   "outputs": [],
   "source": [
    "#h5f = h5py.File('data/NoSTC_OnAxis_'+str(np.int_(P/1e12))+'TW_'+str(np.int_(tau_0*1e15))+'fs_'+str(np.int_(w_00*1e6))+'um_'+str(beta[0])+'_optimization.hdf5', 'w')\n",
    "#h5f.create_dataset('KE', data=KE_final.data)\n",
    "#h5f.create_dataset('CEO', data=KE_final.coords['CEO'].values)\n",
    "#h5f.create_dataset('z_0', data=KE_final.coords['z_0'].values)\n",
    "#h5f.close()"
   ]
  },
  {
   "cell_type": "code",
   "execution_count": 7,
   "metadata": {},
   "outputs": [
    {
     "data": {
      "text/plain": [
       "[<matplotlib.lines.Line2D at 0x255262ea400>]"
      ]
     },
     "execution_count": 7,
     "metadata": {},
     "output_type": "execute_result"
    },
    {
     "data": {
      "image/png": "[encoded data removed]",
      "text/plain": [
       "<Figure size 432x288 with 1 Axes>"
      ]
     },
     "metadata": {
      "needs_background": "light"
     },
     "output_type": "display_data"
    }
   ],
   "source": [
    "plt.plot(time, KE)"
   ]
  },
  {
   "cell_type": "code",
   "execution_count": null,
   "metadata": {},
   "outputs": [],
   "source": []
  },
  {
   "cell_type": "code",
   "execution_count": null,
   "metadata": {},
   "outputs": [],
   "source": []
  }
 ],
 "metadata": {
  "kernelspec": {
   "display_name": "Python 3",
   "language": "python",
   "name": "python3"
  },
  "language_info": {
   "codemirror_mode": {
    "name": "ipython",
    "version": 3
   },
   "file_extension": ".py",
   "mimetype": "text/x-python",
   "name": "python",
   "nbconvert_exporter": "python",
   "pygments_lexer": "ipython3",
   "version": "3.8.5"
  }
 },
 "nbformat": 4,
 "nbformat_minor": 2
}
