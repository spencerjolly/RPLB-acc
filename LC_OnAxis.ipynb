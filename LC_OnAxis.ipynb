{
 "cells": [
  {
   "cell_type": "code",
   "execution_count": 10,
   "metadata": {},
   "outputs": [],
   "source": [
    "import matplotlib.pyplot as plt\n",
    "%matplotlib inline\n",
    "import numpy as np\n",
    "import xarray as xr\n",
    "from tqdm import tqdm\n",
    "from RPLB_acc_LC import RPLB_acc_LC"
   ]
  },
  {
   "cell_type": "code",
   "execution_count": 11,
   "metadata": {
    "scrolled": true
   },
   "outputs": [],
   "source": [
    "# set pure spectral properties\n",
    "lambda_0 = 800e-9  # central wavelength\n",
    "tau_0 = 10e-15  # FL pulse duration 1/e2 intensity half-width (same def as beam waist)\n",
    "# set initial beam waist\n",
    "w_0 = 4e-6\n",
    "# calculate Rayleigh range\n",
    "z_R = (np.pi*w_0**2)/(lambda_0)\n",
    "# beam power\n",
    "P = 100e12\n",
    "# spectral phase\n",
    "GDD = 0*(1e-15)**2\n",
    "TOD = 0*(1e-15)**3\n",
    "# intial electron velocity\n",
    "beta_0 = 0\n",
    "# set tuning parameters\n",
    "z_0 = np.linspace(-0.2*z_R, +0.2*z_R, 9, endpoint=True)\n",
    "Psi_0 = np.linspace(0, 2*np.pi, 14, endpoint=False)\n",
    "tau_p = np.linspace(-3, +1, 9)*(1e-15)"
   ]
  },
  {
   "cell_type": "code",
   "execution_count": 12,
   "metadata": {},
   "outputs": [
    {
     "ename": "KeyboardInterrupt",
     "evalue": "",
     "output_type": "error",
     "traceback": [
      "\u001b[1;31m---------------------------------------------------------------------------\u001b[0m",
      "\u001b[1;31mKeyboardInterrupt\u001b[0m                         Traceback (most recent call last)",
      "\u001b[1;32m<ipython-input-12-775de5ea5d48>\u001b[0m in \u001b[0;36m<module>\u001b[1;34m\u001b[0m\n\u001b[0;32m      7\u001b[0m         \u001b[1;31m# loop over tau_p\u001b[0m\u001b[1;33m\u001b[0m\u001b[1;33m\u001b[0m\u001b[1;33m\u001b[0m\u001b[0m\n\u001b[0;32m      8\u001b[0m         \u001b[1;32mfor\u001b[0m \u001b[0mk\u001b[0m \u001b[1;32min\u001b[0m \u001b[0mrange\u001b[0m\u001b[1;33m(\u001b[0m\u001b[1;36m0\u001b[0m\u001b[1;33m,\u001b[0m \u001b[0mlen\u001b[0m\u001b[1;33m(\u001b[0m\u001b[0mtau_p\u001b[0m\u001b[1;33m)\u001b[0m\u001b[1;33m)\u001b[0m\u001b[1;33m:\u001b[0m\u001b[1;33m\u001b[0m\u001b[1;33m\u001b[0m\u001b[0m\n\u001b[1;32m----> 9\u001b[1;33m             \u001b[0mKE_final\u001b[0m\u001b[1;33m[\u001b[0m\u001b[0mi\u001b[0m\u001b[1;33m,\u001b[0m \u001b[0mj\u001b[0m\u001b[1;33m,\u001b[0m \u001b[0mk\u001b[0m\u001b[1;33m]\u001b[0m \u001b[1;33m=\u001b[0m \u001b[0mRPLB_acc_LC\u001b[0m\u001b[1;33m(\u001b[0m\u001b[0mlambda_0\u001b[0m\u001b[1;33m,\u001b[0m \u001b[0mtau_0\u001b[0m\u001b[1;33m,\u001b[0m \u001b[0mw_0\u001b[0m\u001b[1;33m,\u001b[0m \u001b[0mP\u001b[0m\u001b[1;33m,\u001b[0m \u001b[0mPsi_0\u001b[0m\u001b[1;33m[\u001b[0m\u001b[0mj\u001b[0m\u001b[1;33m]\u001b[0m\u001b[1;33m,\u001b[0m \u001b[0mGDD\u001b[0m\u001b[1;33m,\u001b[0m \u001b[0mTOD\u001b[0m\u001b[1;33m,\u001b[0m \u001b[0mz_0\u001b[0m\u001b[1;33m[\u001b[0m\u001b[0mi\u001b[0m\u001b[1;33m]\u001b[0m\u001b[1;33m,\u001b[0m \u001b[0mbeta_0\u001b[0m\u001b[1;33m,\u001b[0m \u001b[0mtau_p\u001b[0m\u001b[1;33m[\u001b[0m\u001b[0mk\u001b[0m\u001b[1;33m]\u001b[0m\u001b[1;33m)\u001b[0m\u001b[1;33m\u001b[0m\u001b[1;33m\u001b[0m\u001b[0m\n\u001b[0m",
      "\u001b[1;31mKeyboardInterrupt\u001b[0m: "
     ]
    }
   ],
   "source": [
    "# create result variable\n",
    "KE_final = np.zeros(shape=(len(z_0), len(Psi_0), len(tau_p)))\n",
    "#loop over inital position of test particle\n",
    "for i in range(0, len(z_0)):\n",
    "    # loop over CEO phase of laser\n",
    "    for j in range(0, len(Psi_0)):\n",
    "        # loop over tau_p\n",
    "        for k in range(0, len(tau_p)):\n",
    "            KE_final[i, j, k] = RPLB_acc_LC(lambda_0, tau_0, w_0, P, Psi_0[j], GDD, TOD, z_0[i], beta_0, tau_p[k])\n"
   ]
  },
  {
   "cell_type": "code",
   "execution_count": 15,
   "metadata": {},
   "outputs": [
    {
     "data": {
      "image/png": "[encoded data removed]",
      "text/plain": [
       "<Figure size 360x360 with 1 Axes>"
      ]
     },
     "metadata": {
      "needs_background": "light"
     },
     "output_type": "display_data"
    }
   ],
   "source": [
    "KE_final = xr.DataArray(KE_final, coords=[z_0/z_R, Psi_0, tau_p], dims=['z_0', 'CEO', 'tau_p'])\n",
    "\n",
    "plt.figure(figsize=(5, 5))\n",
    "\n",
    "(KE_final.max(dim='z_0').max(dim='CEO')/1e6).plot()\n",
    "\n",
    "plt.tight_layout()"
   ]
  },
  {
   "cell_type": "code",
   "execution_count": null,
   "metadata": {},
   "outputs": [],
   "source": []
  },
  {
   "cell_type": "code",
   "execution_count": null,
   "metadata": {},
   "outputs": [],
   "source": []
  }
 ],
 "metadata": {
  "kernelspec": {
   "display_name": "Python 3",
   "language": "python",
   "name": "python3"
  },
  "language_info": {
   "codemirror_mode": {
    "name": "ipython",
    "version": 3
   },
   "file_extension": ".py",
   "mimetype": "text/x-python",
   "name": "python",
   "nbconvert_exporter": "python",
   "pygments_lexer": "ipython3",
   "version": "3.7.4"
  }
 },
 "nbformat": 4,
 "nbformat_minor": 2
}
